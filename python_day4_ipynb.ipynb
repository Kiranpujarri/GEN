{
  "nbformat": 4,
  "nbformat_minor": 0,
  "metadata": {
    "colab": {
      "provenance": []
    },
    "kernelspec": {
      "name": "python3",
      "display_name": "Python 3"
    },
    "language_info": {
      "name": "python"
    }
  },
  "cells": [
    {
      "cell_type": "code",
      "execution_count": null,
      "metadata": {
        "id": "hNFRtHM2XSEu"
      },
      "outputs": [],
      "source": [
        "x=[1,2,3,4,5]\n",
        "y=[5,6,8]"
      ]
    },
    {
      "cell_type": "code",
      "source": [
        "len(x)"
      ],
      "metadata": {
        "colab": {
          "base_uri": "https://localhost:8080/"
        },
        "id": "1byLhiV3XXiT",
        "outputId": "711d224e-2238-4798-828c-0beae29f6831"
      },
      "execution_count": null,
      "outputs": [
        {
          "output_type": "execute_result",
          "data": {
            "text/plain": [
              "5"
            ]
          },
          "metadata": {},
          "execution_count": 16
        }
      ]
    },
    {
      "cell_type": "code",
      "source": [
        "x.append(y)\n",
        "x"
      ],
      "metadata": {
        "colab": {
          "base_uri": "https://localhost:8080/"
        },
        "id": "EyrdoXroXXa8",
        "outputId": "145c775a-94d9-4327-c509-55c5b2df4b96"
      },
      "execution_count": null,
      "outputs": [
        {
          "output_type": "execute_result",
          "data": {
            "text/plain": [
              "[1, 2, 3, 4, 5, [5, 6, 8]]"
            ]
          },
          "metadata": {},
          "execution_count": 17
        }
      ]
    },
    {
      "cell_type": "code",
      "source": [
        "x.extend(y)\n",
        "x"
      ],
      "metadata": {
        "colab": {
          "base_uri": "https://localhost:8080/"
        },
        "id": "suu8GvFNXXXd",
        "outputId": "ec7f3065-bc2f-4c68-93f9-f0350707cc98"
      },
      "execution_count": null,
      "outputs": [
        {
          "output_type": "execute_result",
          "data": {
            "text/plain": [
              "[1, 2, 3, 4, 5, [5, 6, 8], 5, 6, 8]"
            ]
          },
          "metadata": {},
          "execution_count": 19
        }
      ]
    },
    {
      "cell_type": "code",
      "source": [
        "len(x)"
      ],
      "metadata": {
        "colab": {
          "base_uri": "https://localhost:8080/"
        },
        "id": "QCnGffhTXXVI",
        "outputId": "a340ef58-ce9e-429e-8d37-65edbc22e6fa"
      },
      "execution_count": null,
      "outputs": [
        {
          "output_type": "execute_result",
          "data": {
            "text/plain": [
              "9"
            ]
          },
          "metadata": {},
          "execution_count": 20
        }
      ]
    },
    {
      "cell_type": "code",
      "source": [
        "x=[1,5,9,8,3,5]                #only sort keep in oder ,R.true= apposite\n",
        "x.sort(reverse=True)\n",
        "x"
      ],
      "metadata": {
        "colab": {
          "base_uri": "https://localhost:8080/"
        },
        "id": "gB1mDfP7XXSx",
        "outputId": "52092c6b-3212-4c5e-abb7-613629e648db"
      },
      "execution_count": null,
      "outputs": [
        {
          "output_type": "execute_result",
          "data": {
            "text/plain": [
              "[9, 8, 5, 5, 3, 1]"
            ]
          },
          "metadata": {},
          "execution_count": 26
        }
      ]
    },
    {
      "cell_type": "code",
      "source": [
        "x=[1,5,9,8,9,5]\n",
        "x.count(5),x.count(9)"
      ],
      "metadata": {
        "colab": {
          "base_uri": "https://localhost:8080/"
        },
        "id": "kMtfdmeNXXQb",
        "outputId": "6ae17d60-cc2c-4188-abf0-4c90ad602461"
      },
      "execution_count": null,
      "outputs": [
        {
          "output_type": "execute_result",
          "data": {
            "text/plain": [
              "(2, 2)"
            ]
          },
          "metadata": {},
          "execution_count": 30
        }
      ]
    },
    {
      "cell_type": "code",
      "source": [
        "x=[1,2,3,4,5,8,5]\n",
        "print(x)             #y[0]is replaysed\n",
        "y=x[2:5]\n",
        "print(y)\n",
        "y[0]=9999\n",
        "print(y)\n",
        "\n"
      ],
      "metadata": {
        "colab": {
          "base_uri": "https://localhost:8080/"
        },
        "id": "51nQhCCLXXN7",
        "outputId": "eb005ae2-d4d3-4040-cfd4-48b57859fc5d"
      },
      "execution_count": null,
      "outputs": [
        {
          "output_type": "stream",
          "name": "stdout",
          "text": [
            "[1, 2, 3, 4, 5, 8, 5]\n",
            "[3, 4, 5]\n",
            "[9999, 4, 5]\n"
          ]
        }
      ]
    },
    {
      "cell_type": "code",
      "source": [
        "x=[55,6,8,1,44,9]          #x[x]any can replace\n",
        "print(x)\n",
        "y=x[2:9]\n",
        "print(y)\n",
        "y[1]=5\n",
        "print(y)"
      ],
      "metadata": {
        "colab": {
          "base_uri": "https://localhost:8080/"
        },
        "id": "sh7mR8M0XXLi",
        "outputId": "788087f5-f863-4814-daf4-14a3abeed6fe"
      },
      "execution_count": null,
      "outputs": [
        {
          "output_type": "stream",
          "name": "stdout",
          "text": [
            "[55, 6, 8, 1, 44, 9]\n",
            "[8, 1, 44, 9]\n",
            "[8, 5, 44, 9]\n"
          ]
        }
      ]
    },
    {
      "cell_type": "code",
      "source": [
        "def add():\n",
        " print(\"hello\")\n",
        "add()"
      ],
      "metadata": {
        "colab": {
          "base_uri": "https://localhost:8080/"
        },
        "id": "ioy9KKysXXJB",
        "outputId": "517136d5-a1a1-431f-a7c3-b60081afb325"
      },
      "execution_count": null,
      "outputs": [
        {
          "output_type": "stream",
          "name": "stdout",
          "text": [
            "hello\n"
          ]
        }
      ]
    },
    {
      "cell_type": "code",
      "source": [
        "x=[1,2,3,4,5,6]          #shallow copy\n",
        "y=x\n",
        "y[0]=999\n",
        "print(x)\n",
        "print(y)"
      ],
      "metadata": {
        "colab": {
          "base_uri": "https://localhost:8080/"
        },
        "id": "7m6fWGSyXXER",
        "outputId": "3f3b143b-cf57-41a4-eee8-e80ced9a6018"
      },
      "execution_count": null,
      "outputs": [
        {
          "output_type": "stream",
          "name": "stdout",
          "text": [
            "[999, 2, 3, 4, 5, 6]\n",
            "[999, 2, 3, 4, 5, 6]\n"
          ]
        }
      ]
    },
    {
      "cell_type": "code",
      "source": [
        "x=[1,2,3,4,5,6]          #shallow copy\n",
        "y=x.copy()\n",
        "y[0]=999\n",
        "print(x)\n",
        "print(y)"
      ],
      "metadata": {
        "colab": {
          "base_uri": "https://localhost:8080/"
        },
        "id": "XwvdXUxWXXBZ",
        "outputId": "a52fe333-2fd7-488a-e7f7-82a0967891bf"
      },
      "execution_count": null,
      "outputs": [
        {
          "output_type": "stream",
          "name": "stdout",
          "text": [
            "[1, 2, 3, 4, 5, 6]\n",
            "[999, 2, 3, 4, 5, 6]\n"
          ]
        }
      ]
    },
    {
      "cell_type": "code",
      "source": [
        "x=[\"kiran\",\"came\",\"by car\",]          #shallow copy noramal\n",
        "y=x.copy()                            #deepcopy, copy in apposite\n",
        "y[2]=\"by bike\"\n",
        "y[0]=\"kiran pujarri\"\n",
        "print(x)\n",
        "print(y)"
      ],
      "metadata": {
        "colab": {
          "base_uri": "https://localhost:8080/"
        },
        "id": "ZoW-zFUKRn1l",
        "outputId": "990142cc-e50a-4360-a5db-01148d5a3f9f"
      },
      "execution_count": null,
      "outputs": [
        {
          "output_type": "stream",
          "name": "stdout",
          "text": [
            "['kiran', 'came', 'by car']\n",
            "['kiran pujarri', 'came', 'by bike']\n"
          ]
        }
      ]
    },
    {
      "cell_type": "code",
      "source": [
        "x=[1,2,3,4,5]                 #pop=remove index front of no\n",
        "x.pop(3)                      #remove =direct remove\n",
        "x"
      ],
      "metadata": {
        "colab": {
          "base_uri": "https://localhost:8080/"
        },
        "id": "55jLCJDgSxuv",
        "outputId": "9b2064b1-6ee3-4e9a-a5dc-c32479ece0cf"
      },
      "execution_count": null,
      "outputs": [
        {
          "output_type": "execute_result",
          "data": {
            "text/plain": [
              "[1, 2, 3, 5]"
            ]
          },
          "metadata": {},
          "execution_count": 27
        }
      ]
    },
    {
      "cell_type": "code",
      "source": [
        "x=[1,2,3,4,5,6]               #only pop() remove last thing\n",
        "x.pop()\n",
        "x"
      ],
      "metadata": {
        "colab": {
          "base_uri": "https://localhost:8080/"
        },
        "id": "_7PG2oIGUMJI",
        "outputId": "f53a7b76-61e0-407e-a5b1-552fb1994526"
      },
      "execution_count": null,
      "outputs": [
        {
          "output_type": "execute_result",
          "data": {
            "text/plain": [
              "[1, 2, 3, 4, 5]"
            ]
          },
          "metadata": {},
          "execution_count": 31
        }
      ]
    },
    {
      "cell_type": "code",
      "source": [
        "x={1,2,3,4,5,5,5}\n",
        "type(x)"
      ],
      "metadata": {
        "colab": {
          "base_uri": "https://localhost:8080/"
        },
        "id": "RRpY8N5ZUMFq",
        "outputId": "7941d4f9-e38b-434a-d5db-1cc28a0f20f3"
      },
      "execution_count": null,
      "outputs": [
        {
          "output_type": "execute_result",
          "data": {
            "text/plain": [
              "set"
            ]
          },
          "metadata": {},
          "execution_count": 33
        }
      ]
    },
    {
      "cell_type": "code",
      "source": [
        "x={1:2,3:\"king\"}\n",
        "type(x)\n",
        "y=x.copy()\n",
        "y"
      ],
      "metadata": {
        "colab": {
          "base_uri": "https://localhost:8080/"
        },
        "id": "hp3qHpwAUMC6",
        "outputId": "3c02d5d1-b514-4cb6-b881-279ceab44660"
      },
      "execution_count": null,
      "outputs": [
        {
          "output_type": "execute_result",
          "data": {
            "text/plain": [
              "{1: 2, 3: 'king'}"
            ]
          },
          "metadata": {},
          "execution_count": 41
        }
      ]
    },
    {
      "cell_type": "code",
      "source": [
        "x={1:2,3:\"king\"}\n",
        "type(x)"
      ],
      "metadata": {
        "colab": {
          "base_uri": "https://localhost:8080/"
        },
        "id": "oLN4ekWqUMAP",
        "outputId": "92dd25b6-5cbb-4875-a877-80ec83073877"
      },
      "execution_count": null,
      "outputs": [
        {
          "output_type": "execute_result",
          "data": {
            "text/plain": [
              "dict"
            ]
          },
          "metadata": {},
          "execution_count": 42
        }
      ]
    },
    {
      "cell_type": "code",
      "source": [
        "x={1,2,33,9,\"data\" \"engineering\"}              #union= combind both\n",
        "y={5,6,7,8,\"data science\"}\n",
        "x.union(y)"
      ],
      "metadata": {
        "colab": {
          "base_uri": "https://localhost:8080/"
        },
        "id": "Mln2cbSZUL9h",
        "outputId": "ece693ea-4353-4d59-f157-5e0b95d087bb"
      },
      "execution_count": null,
      "outputs": [
        {
          "output_type": "execute_result",
          "data": {
            "text/plain": [
              "{1, 2, 33, 5, 6, 7, 8, 9, 'data science', 'dataengineering'}"
            ]
          },
          "metadata": {},
          "execution_count": 47
        }
      ]
    },
    {
      "cell_type": "code",
      "source": [
        "x={1,5,33,9,\"data\",\"engineering\"}              #intersection= common things\n",
        "y={5,6,7,8,\"data science\",\"data\"}\n",
        "x.intersection(y)"
      ],
      "metadata": {
        "colab": {
          "base_uri": "https://localhost:8080/"
        },
        "id": "ZsM86c2GUL67",
        "outputId": "93c00aa4-3e6a-4c41-d36a-77f79cb1364a"
      },
      "execution_count": null,
      "outputs": [
        {
          "output_type": "execute_result",
          "data": {
            "text/plain": [
              "{5, 'data'}"
            ]
          },
          "metadata": {},
          "execution_count": 52
        }
      ]
    },
    {
      "cell_type": "code",
      "source": [
        "x={1,6,5,9,\"data\",\"engineering\"}              #diffrence= which is not in both\n",
        "y=[5,6,7,8,\"data science\"]\n",
        "x.difference(y)"
      ],
      "metadata": {
        "colab": {
          "base_uri": "https://localhost:8080/"
        },
        "id": "Z9F7meYyUL4J",
        "outputId": "4e45c88c-d9b6-462f-af68-459b854122e8"
      },
      "execution_count": null,
      "outputs": [
        {
          "output_type": "execute_result",
          "data": {
            "text/plain": [
              "{1, 9, 'data', 'engineering'}"
            ]
          },
          "metadata": {},
          "execution_count": 54
        }
      ]
    },
    {
      "cell_type": "code",
      "source": [
        "x={1,2,3,4}                   #issubset=true or false\n",
        "y={5,6,7,8}\n",
        "print(x.issubset(y))\n",
        "print(y.issubset(x))\n",
        "print(x.issuperset(y))\n",
        "print(y.isdisjoint(x))"
      ],
      "metadata": {
        "colab": {
          "base_uri": "https://localhost:8080/"
        },
        "id": "Z6pK9nhAUL1X",
        "outputId": "54b7cff8-efbd-41ef-8ce0-c78f2f74e91a"
      },
      "execution_count": null,
      "outputs": [
        {
          "output_type": "stream",
          "name": "stdout",
          "text": [
            "False\n",
            "False\n",
            "False\n",
            "True\n"
          ]
        }
      ]
    },
    {
      "cell_type": "code",
      "source": [
        "x={1,2,3,4,5}                   #issubset=true or false\n",
        "y={5,6,7,8}\n",
        "x.difference_update(y)\n",
        "x"
      ],
      "metadata": {
        "colab": {
          "base_uri": "https://localhost:8080/"
        },
        "id": "1MOnmiw2ULyk",
        "outputId": "b1196b86-2eb8-46cc-b544-4772263b1668"
      },
      "execution_count": null,
      "outputs": [
        {
          "output_type": "execute_result",
          "data": {
            "text/plain": [
              "{1, 2, 3, 4}"
            ]
          },
          "metadata": {},
          "execution_count": 66
        }
      ]
    },
    {
      "cell_type": "code",
      "source": [
        "x={1,2,3,4,5,6}                   #symmetric diff_upd= remove common things\n",
        "y={5,6,7,8}\n",
        "x.symmetric_difference_update(y)\n",
        "x"
      ],
      "metadata": {
        "colab": {
          "base_uri": "https://localhost:8080/"
        },
        "id": "S2o15-73ULv3",
        "outputId": "333c0931-f749-4a36-d73d-caa3d6e6d14e"
      },
      "execution_count": null,
      "outputs": [
        {
          "output_type": "execute_result",
          "data": {
            "text/plain": [
              "{1, 2, 3, 4, 7, 8}"
            ]
          },
          "metadata": {},
          "execution_count": 69
        }
      ]
    },
    {
      "cell_type": "code",
      "source": [
        "x={1,2,3,4,5,6}                   #symmetric diff_upd= remove common things\n",
        "y={5,6,7,8}\n",
        "x.symmetric_difference_update(y)\n",
        "print(x)\n",
        "print(y)"
      ],
      "metadata": {
        "colab": {
          "base_uri": "https://localhost:8080/"
        },
        "id": "nz8YdXqzrVr5",
        "outputId": "d7374f8d-4279-46a1-a0d5-d6c77096df5c"
      },
      "execution_count": null,
      "outputs": [
        {
          "output_type": "stream",
          "name": "stdout",
          "text": [
            "{1, 2, 3, 4, 7, 8}\n",
            "{8, 5, 6, 7}\n"
          ]
        }
      ]
    },
    {
      "cell_type": "code",
      "source": [
        "x={1,2,3,4,5,6}                   #symmetric diff_upd= remove common things\n",
        "y={5,6,7,8}\n",
        "x.symmetric_difference(y)\n",
        "x"
      ],
      "metadata": {
        "colab": {
          "base_uri": "https://localhost:8080/"
        },
        "id": "R5L3QC9asKzS",
        "outputId": "a3b6cb9c-0505-440a-c637-799e7d9990c3"
      },
      "execution_count": null,
      "outputs": [
        {
          "output_type": "execute_result",
          "data": {
            "text/plain": [
              "{1, 2, 3, 4, 5, 6}"
            ]
          },
          "metadata": {},
          "execution_count": 71
        }
      ]
    },
    {
      "cell_type": "code",
      "source": [
        "x={1,2,3,4}                #brfore add ,copy it\n",
        "y=x.copy()\n",
        "y.add(50)\n",
        "print(x)\n",
        "print(y)"
      ],
      "metadata": {
        "id": "tgzysn8ysfys",
        "colab": {
          "base_uri": "https://localhost:8080/"
        },
        "outputId": "986dccb2-c513-41df-b63f-9ca250800557"
      },
      "execution_count": null,
      "outputs": [
        {
          "output_type": "stream",
          "name": "stdout",
          "text": [
            "{1, 2, 3, 4}\n",
            "{1, 2, 3, 4, 50}\n"
          ]
        }
      ]
    },
    {
      "cell_type": "code",
      "source": [],
      "metadata": {
        "id": "mmiowTuEhUEf"
      },
      "execution_count": null,
      "outputs": []
    },
    {
      "cell_type": "code",
      "source": [],
      "metadata": {
        "id": "pk6Vesk2hUBD"
      },
      "execution_count": null,
      "outputs": []
    },
    {
      "cell_type": "code",
      "source": [],
      "metadata": {
        "id": "OIobMA4ghT-4"
      },
      "execution_count": null,
      "outputs": []
    },
    {
      "cell_type": "code",
      "source": [],
      "metadata": {
        "id": "mHek9Mi7hT8j"
      },
      "execution_count": null,
      "outputs": []
    },
    {
      "cell_type": "code",
      "source": [],
      "metadata": {
        "id": "2HQdh2yRhT6Y"
      },
      "execution_count": null,
      "outputs": []
    },
    {
      "cell_type": "code",
      "source": [],
      "metadata": {
        "id": "NapP7V2shT4J"
      },
      "execution_count": null,
      "outputs": []
    },
    {
      "cell_type": "code",
      "source": [],
      "metadata": {
        "id": "x2DSAsgghT1z"
      },
      "execution_count": null,
      "outputs": []
    },
    {
      "cell_type": "code",
      "source": [],
      "metadata": {
        "id": "ckqkg3yThTzP"
      },
      "execution_count": null,
      "outputs": []
    }
  ]
}