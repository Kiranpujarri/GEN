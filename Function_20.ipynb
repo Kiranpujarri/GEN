{
  "nbformat": 4,
  "nbformat_minor": 0,
  "metadata": {
    "colab": {
      "provenance": []
    },
    "kernelspec": {
      "name": "python3",
      "display_name": "Python 3"
    },
    "language_info": {
      "name": "python"
    }
  },
  "cells": [
    {
      "cell_type": "code",
      "execution_count": 1,
      "metadata": {
        "colab": {
          "base_uri": "https://localhost:8080/"
        },
        "id": "zoDFpW1jHeE8",
        "outputId": "963860a3-ec94-4b07-d490-e16c330dfdaf"
      },
      "outputs": [
        {
          "output_type": "stream",
          "name": "stdout",
          "text": [
            "addition\n"
          ]
        }
      ],
      "source": [
        "def add():\n",
        "  print(\"addition\")\n",
        "add()"
      ]
    },
    {
      "cell_type": "code",
      "source": [
        "def add(a,b):\n",
        " print(\"addition\",a+b )\n",
        "add(\"data\",str(20))"
      ],
      "metadata": {
        "colab": {
          "base_uri": "https://localhost:8080/"
        },
        "id": "VjdwZrvEHmoO",
        "outputId": "6529bcb9-87c5-4279-e670-91e5205c9b15"
      },
      "execution_count": 3,
      "outputs": [
        {
          "output_type": "stream",
          "name": "stdout",
          "text": [
            "addition data20\n"
          ]
        }
      ]
    },
    {
      "cell_type": "code",
      "source": [
        "def add(k,d):\n",
        "   print(\"lion\",k+d)\n",
        "add(\"is a king\",str(1))"
      ],
      "metadata": {
        "colab": {
          "base_uri": "https://localhost:8080/"
        },
        "id": "BLzt1D5CHmkt",
        "outputId": "327d18f9-2f73-49e4-bea9-6e8202710bde"
      },
      "execution_count": 6,
      "outputs": [
        {
          "output_type": "stream",
          "name": "stdout",
          "text": [
            "lion is a king1\n"
          ]
        }
      ]
    },
    {
      "cell_type": "code",
      "source": [
        "def function1(a,b):\n",
        "  return a+b\n",
        "  print(\"test\")"
      ],
      "metadata": {
        "id": "IYvPV8DVHmh1"
      },
      "execution_count": 7,
      "outputs": []
    },
    {
      "cell_type": "code",
      "source": [
        "x=function1(10,20)\n",
        "x"
      ],
      "metadata": {
        "colab": {
          "base_uri": "https://localhost:8080/"
        },
        "id": "_l4oMYRLHmfO",
        "outputId": "6336af69-f532-4579-bad4-2ff1cbd9b0f1"
      },
      "execution_count": 8,
      "outputs": [
        {
          "output_type": "execute_result",
          "data": {
            "text/plain": [
              "30"
            ]
          },
          "metadata": {},
          "execution_count": 8
        }
      ]
    },
    {
      "cell_type": "code",
      "source": [
        "x=function1(50,50)\n",
        "x"
      ],
      "metadata": {
        "colab": {
          "base_uri": "https://localhost:8080/"
        },
        "id": "MmofxSXRHmcf",
        "outputId": "ea9f5685-526d-43b9-e823-0404e9745b2b"
      },
      "execution_count": 10,
      "outputs": [
        {
          "output_type": "execute_result",
          "data": {
            "text/plain": [
              "100"
            ]
          },
          "metadata": {},
          "execution_count": 10
        }
      ]
    },
    {
      "cell_type": "code",
      "source": [
        "def even_or_odd(x):\n",
        "  if x%2==1:\n",
        "    return \"even\"\n",
        "  else:\n",
        "      return \"odd\"\n"
      ],
      "metadata": {
        "id": "E9dLGUMNHmZk"
      },
      "execution_count": 11,
      "outputs": []
    },
    {
      "cell_type": "code",
      "source": [
        "even_or_odd(10)"
      ],
      "metadata": {
        "colab": {
          "base_uri": "https://localhost:8080/",
          "height": 35
        },
        "id": "Pu-MpMJ0HmWw",
        "outputId": "3912667f-0a66-45aa-c5f0-11435d759c2a"
      },
      "execution_count": 12,
      "outputs": [
        {
          "output_type": "execute_result",
          "data": {
            "text/plain": [
              "'odd'"
            ],
            "application/vnd.google.colaboratory.intrinsic+json": {
              "type": "string"
            }
          },
          "metadata": {},
          "execution_count": 12
        }
      ]
    },
    {
      "cell_type": "code",
      "source": [
        "even_or_odd(3)"
      ],
      "metadata": {
        "colab": {
          "base_uri": "https://localhost:8080/",
          "height": 35
        },
        "id": "dh02Vx6QHmT7",
        "outputId": "d8e6d02c-e781-4738-e0e0-a393af93004c"
      },
      "execution_count": 15,
      "outputs": [
        {
          "output_type": "execute_result",
          "data": {
            "text/plain": [
              "'even'"
            ],
            "application/vnd.google.colaboratory.intrinsic+json": {
              "type": "string"
            }
          },
          "metadata": {},
          "execution_count": 15
        }
      ]
    },
    {
      "cell_type": "code",
      "source": [
        "def factorial(n):\n",
        "    result = 1\n",
        "    for i in range(2, n+1):\n",
        "        result *= i\n",
        "    return result\n",
        "factorial(5)"
      ],
      "metadata": {
        "colab": {
          "base_uri": "https://localhost:8080/"
        },
        "id": "NK5ACamxHmRG",
        "outputId": "e70a3a8e-2a1b-4e6a-f34a-50f7bd21f6b1"
      },
      "execution_count": 17,
      "outputs": [
        {
          "output_type": "execute_result",
          "data": {
            "text/plain": [
              "120"
            ]
          },
          "metadata": {},
          "execution_count": 17
        }
      ]
    },
    {
      "cell_type": "code",
      "source": [
        "def x(a,b,c):\n",
        "  if a>b and a>c :\n",
        "    return a\n",
        "  elif b>a and b>c :\n",
        "    return b\n",
        "  else:\n",
        "    return c\n"
      ],
      "metadata": {
        "id": "4YZJztSFHmOf"
      },
      "execution_count": 18,
      "outputs": []
    },
    {
      "cell_type": "code",
      "source": [
        "x(10,50,80)"
      ],
      "metadata": {
        "colab": {
          "base_uri": "https://localhost:8080/"
        },
        "id": "NLYJfIUBHmLl",
        "outputId": "b1f2f08c-2733-4fe8-f32e-e5689554ec58"
      },
      "execution_count": 22,
      "outputs": [
        {
          "output_type": "execute_result",
          "data": {
            "text/plain": [
              "80"
            ]
          },
          "metadata": {},
          "execution_count": 22
        }
      ]
    },
    {
      "cell_type": "code",
      "source": [
        "def triangle_type(a, b, c):\n",
        "    if a == b == c:\n",
        "        return \"Equilateral\"\n",
        "    elif a == b or b == c or a == c:\n",
        "        return \"Isosceles\"\n",
        "    else:\n",
        "        return \"Scalene\"\n",
        "triangle_type(10,20,20)"
      ],
      "metadata": {
        "colab": {
          "base_uri": "https://localhost:8080/",
          "height": 35
        },
        "id": "ksSHx4FHHmIx",
        "outputId": "52c808cd-c590-47d7-9e79-d6d1e29902ed"
      },
      "execution_count": 23,
      "outputs": [
        {
          "output_type": "execute_result",
          "data": {
            "text/plain": [
              "'Isosceles'"
            ],
            "application/vnd.google.colaboratory.intrinsic+json": {
              "type": "string"
            }
          },
          "metadata": {},
          "execution_count": 23
        }
      ]
    },
    {
      "cell_type": "code",
      "source": [
        "def password_strength(pw):\n",
        "  if len(pw) <7:\n",
        "    return \"week\"\n",
        "  elif len(pw)<12:\n",
        "    return \"modrate\"\n",
        "  else:\n",
        "    return \"strong\""
      ],
      "metadata": {
        "id": "moj7lyVwHmF-"
      },
      "execution_count": 26,
      "outputs": []
    },
    {
      "cell_type": "code",
      "source": [
        "password_strength(\"12654615458585\")"
      ],
      "metadata": {
        "colab": {
          "base_uri": "https://localhost:8080/",
          "height": 35
        },
        "id": "zcUvPLzAHmDA",
        "outputId": "48febf6a-c470-4f07-aa5a-524d92623401"
      },
      "execution_count": 29,
      "outputs": [
        {
          "output_type": "execute_result",
          "data": {
            "text/plain": [
              "'strong'"
            ],
            "application/vnd.google.colaboratory.intrinsic+json": {
              "type": "string"
            }
          },
          "metadata": {},
          "execution_count": 29
        }
      ]
    },
    {
      "cell_type": "code",
      "source": [
        "def f1(x):\n",
        "  def f2():\n",
        "    return \"Function 2\"\n",
        "  def f3():\n",
        "    return \"Function 3\"\n",
        "  if x==2:\n",
        "    return f2()\n",
        "  else:\n",
        "    return f3()"
      ],
      "metadata": {
        "id": "9DjqngQ5SJDM"
      },
      "execution_count": 30,
      "outputs": []
    },
    {
      "cell_type": "code",
      "source": [
        "f1(20)"
      ],
      "metadata": {
        "colab": {
          "base_uri": "https://localhost:8080/",
          "height": 35
        },
        "id": "L2-Kyze8SjNa",
        "outputId": "27419e6a-84b1-4969-a6b2-00adc8e9d255"
      },
      "execution_count": 31,
      "outputs": [
        {
          "output_type": "execute_result",
          "data": {
            "text/plain": [
              "'Function 3'"
            ],
            "application/vnd.google.colaboratory.intrinsic+json": {
              "type": "string"
            }
          },
          "metadata": {},
          "execution_count": 31
        }
      ]
    },
    {
      "cell_type": "code",
      "source": [
        "def add_and_square(a,b):\n",
        "  def add():\n",
        "    return a+b\n",
        "  def square():\n",
        "    return add()**2\n",
        "  return square()\n",
        "  add_and_square(10,20)"
      ],
      "metadata": {
        "id": "6wjL5P4LSlZ4"
      },
      "execution_count": 33,
      "outputs": []
    },
    {
      "cell_type": "code",
      "source": [
        "add_and_square(10,20)"
      ],
      "metadata": {
        "colab": {
          "base_uri": "https://localhost:8080/"
        },
        "id": "ZTj6aWk2TQQc",
        "outputId": "e4b71c60-b482-40fd-e9d6-4779af1018bd"
      },
      "execution_count": 34,
      "outputs": [
        {
          "output_type": "execute_result",
          "data": {
            "text/plain": [
              "900"
            ]
          },
          "metadata": {},
          "execution_count": 34
        }
      ]
    },
    {
      "cell_type": "code",
      "source": [
        "def x(n):\n",
        "    def y(num):\n",
        "        result = 1\n",
        "        for i in range(2, num+1):\n",
        "            result *= i\n",
        "        return result\n",
        "    return y(n)\n",
        "x(5)"
      ],
      "metadata": {
        "colab": {
          "base_uri": "https://localhost:8080/"
        },
        "id": "90OYIlURTXts",
        "outputId": "7e74dcd1-b99c-41fc-961b-0786df6a10af"
      },
      "execution_count": 35,
      "outputs": [
        {
          "output_type": "execute_result",
          "data": {
            "text/plain": [
              "120"
            ]
          },
          "metadata": {},
          "execution_count": 35
        }
      ]
    },
    {
      "cell_type": "code",
      "source": [
        "def fibonacci(n):\n",
        "    def generate():\n",
        "        a, b = 0, 1\n",
        "        for _ in range(n):\n",
        "            yield a\n",
        "            a, b = b, a + b\n",
        "    return list(generate())"
      ],
      "metadata": {
        "id": "Xtu02PlLbqPd"
      },
      "execution_count": 36,
      "outputs": []
    },
    {
      "cell_type": "code",
      "source": [
        "fibonacci(10)"
      ],
      "metadata": {
        "colab": {
          "base_uri": "https://localhost:8080/"
        },
        "id": "25JFKUWdbqL4",
        "outputId": "d05b7b98-cedb-4fd1-9bba-8115b2934274"
      },
      "execution_count": 37,
      "outputs": [
        {
          "output_type": "execute_result",
          "data": {
            "text/plain": [
              "[0, 1, 1, 2, 3, 5, 8, 13, 21, 34]"
            ]
          },
          "metadata": {},
          "execution_count": 37
        }
      ]
    },
    {
      "cell_type": "code",
      "source": [
        "\"madam\"[::-1]"
      ],
      "metadata": {
        "colab": {
          "base_uri": "https://localhost:8080/",
          "height": 35
        },
        "id": "Wa6WNMq2bqHz",
        "outputId": "4c1ec027-0af4-4884-af46-ffdc51fbbd7d"
      },
      "execution_count": 38,
      "outputs": [
        {
          "output_type": "execute_result",
          "data": {
            "text/plain": [
              "'madam'"
            ],
            "application/vnd.google.colaboratory.intrinsic+json": {
              "type": "string"
            }
          },
          "metadata": {},
          "execution_count": 38
        }
      ]
    },
    {
      "cell_type": "code",
      "source": [
        "\"madaml\"[::-1]"
      ],
      "metadata": {
        "colab": {
          "base_uri": "https://localhost:8080/",
          "height": 35
        },
        "id": "vbpWtwUXbqFp",
        "outputId": "c7f313fb-58d1-43ce-a6f6-0c4fe109938e"
      },
      "execution_count": 41,
      "outputs": [
        {
          "output_type": "execute_result",
          "data": {
            "text/plain": [
              "'lmadam'"
            ],
            "application/vnd.google.colaboratory.intrinsic+json": {
              "type": "string"
            }
          },
          "metadata": {},
          "execution_count": 41
        }
      ]
    },
    {
      "cell_type": "code",
      "source": [
        "def is_palindrom(x):\n",
        "  return x==x[::-1]"
      ],
      "metadata": {
        "id": "nDW8zlOtbqD6"
      },
      "execution_count": 42,
      "outputs": []
    },
    {
      "cell_type": "code",
      "source": [
        "is_palindrom('book')"
      ],
      "metadata": {
        "colab": {
          "base_uri": "https://localhost:8080/"
        },
        "id": "E6EIrstNbqBP",
        "outputId": "8b034477-c9e6-4863-f9ee-0f7b64c32e60"
      },
      "execution_count": 43,
      "outputs": [
        {
          "output_type": "execute_result",
          "data": {
            "text/plain": [
              "False"
            ]
          },
          "metadata": {},
          "execution_count": 43
        }
      ]
    },
    {
      "cell_type": "code",
      "source": [
        "def funcation1(a,b):\n",
        "  return a+b\n",
        "function1(10,20)"
      ],
      "metadata": {
        "colab": {
          "base_uri": "https://localhost:8080/"
        },
        "id": "zzRDDGt8bp-p",
        "outputId": "6ba262de-274c-4ced-f1a6-86fa7baa0034"
      },
      "execution_count": 44,
      "outputs": [
        {
          "output_type": "execute_result",
          "data": {
            "text/plain": [
              "30"
            ]
          },
          "metadata": {},
          "execution_count": 44
        }
      ]
    },
    {
      "cell_type": "code",
      "source": [
        "import numpy as np\n",
        "x=lambda x,y:np.sqrt(x**2+y**2)\n",
        "x(2,4)"
      ],
      "metadata": {
        "colab": {
          "base_uri": "https://localhost:8080/"
        },
        "id": "5Fsytor5bp72",
        "outputId": "5eb297a3-969c-4f1b-a948-f82b41b93f2a"
      },
      "execution_count": 45,
      "outputs": [
        {
          "output_type": "execute_result",
          "data": {
            "text/plain": [
              "np.float64(4.47213595499958)"
            ]
          },
          "metadata": {},
          "execution_count": 45
        }
      ]
    },
    {
      "cell_type": "code",
      "source": [
        "is_even = lambda x: x % 2 == 0\n",
        "x=print(is_even(10))"
      ],
      "metadata": {
        "colab": {
          "base_uri": "https://localhost:8080/"
        },
        "id": "OBJiE8RTbp5G",
        "outputId": "125ae041-f086-4475-e869-866626974b60"
      },
      "execution_count": 46,
      "outputs": [
        {
          "output_type": "stream",
          "name": "stdout",
          "text": [
            "True\n"
          ]
        }
      ]
    },
    {
      "cell_type": "code",
      "source": [
        "x=lambda a, b: a if a > b else b\n",
        "x(10,20)"
      ],
      "metadata": {
        "colab": {
          "base_uri": "https://localhost:8080/"
        },
        "id": "85an0iK9bp2a",
        "outputId": "2035fdc1-a20e-45a6-aba9-d58ca4232ee7"
      },
      "execution_count": 47,
      "outputs": [
        {
          "output_type": "execute_result",
          "data": {
            "text/plain": [
              "20"
            ]
          },
          "metadata": {},
          "execution_count": 47
        }
      ]
    },
    {
      "cell_type": "code",
      "source": [
        "x=lambda lst: [x ** 2 for x in lst]\n",
        "x([1,2,3,4])"
      ],
      "metadata": {
        "colab": {
          "base_uri": "https://localhost:8080/"
        },
        "id": "U59fSHXsbpzs",
        "outputId": "ed1671ba-af40-45b6-a3b2-edaeb378e9c8"
      },
      "execution_count": 48,
      "outputs": [
        {
          "output_type": "execute_result",
          "data": {
            "text/plain": [
              "[1, 4, 9, 16]"
            ]
          },
          "metadata": {},
          "execution_count": 48
        }
      ]
    },
    {
      "cell_type": "code",
      "source": [
        "x=lambda x: x ** 0.5\n",
        "x(16)"
      ],
      "metadata": {
        "colab": {
          "base_uri": "https://localhost:8080/"
        },
        "id": "6dXpytLlfSd8",
        "outputId": "ce7fc54d-32a3-449a-fbcb-f586f087faac"
      },
      "execution_count": 49,
      "outputs": [
        {
          "output_type": "execute_result",
          "data": {
            "text/plain": [
              "4.0"
            ]
          },
          "metadata": {},
          "execution_count": 49
        }
      ]
    },
    {
      "cell_type": "code",
      "source": [
        "### preprocessing pipeliens"
      ],
      "metadata": {
        "id": "Gg4hVxPNfTfX"
      },
      "execution_count": null,
      "outputs": []
    },
    {
      "cell_type": "code",
      "source": [
        "def drop_missing(df):\n",
        "    return df.dropna()\n",
        "def fill_missing_mean(df, column):\n",
        "    df[column] = df[column].fillna(df[column].mean())\n",
        "    return df\n",
        "def fill_missing_mode(df, column):\n",
        "    df[column] = df[column].fillna(df[column].mode()[0])\n",
        "    return df\n",
        "def remove_duplicates(df):\n",
        "    return df.drop_duplicates()\n",
        "def remove_outliers(df, column):\n",
        "    Q1 = df[column].quantile(0.25)\n",
        "    Q3 = df[column].quantile(0.75)\n",
        "    IQR = Q3 - Q1\n",
        "    return df[(df[column] >= Q1 - 1.5 * IQR) & (df[column] <= Q3 + 1.5 * IQR)]\n",
        "def label_encode(df, column):\n",
        "    df[column] = df[column].astype('category').cat.codes\n",
        "    return df\n",
        "def one_hot_encode(df, column):\n",
        "    return pd.get_dummies(df, columns=[column])\n",
        "def clean_text(df, column):\n",
        "    df[column] = df[column].str.replace(r'[^A-Za-z0-9 ]+', '', regex=True)\n",
        "    return df\n"
      ],
      "metadata": {
        "id": "bakYSPHHfTb6"
      },
      "execution_count": 50,
      "outputs": []
    },
    {
      "cell_type": "code",
      "source": [
        "def f1(x):\n",
        "  return (x**2)\n",
        "for i in range(1,10):\n",
        "  f1(i)"
      ],
      "metadata": {
        "id": "aw5lVQZRfTZO"
      },
      "execution_count": 51,
      "outputs": []
    },
    {
      "cell_type": "code",
      "source": [
        "list(map(lambda x:x**2,range(1,10)))"
      ],
      "metadata": {
        "colab": {
          "base_uri": "https://localhost:8080/"
        },
        "id": "BmtqTEiffTWv",
        "outputId": "83864ffb-702a-49cc-caa8-1c9368a8935b"
      },
      "execution_count": 52,
      "outputs": [
        {
          "output_type": "execute_result",
          "data": {
            "text/plain": [
              "[1, 4, 9, 16, 25, 36, 49, 64, 81]"
            ]
          },
          "metadata": {},
          "execution_count": 52
        }
      ]
    },
    {
      "cell_type": "code",
      "source": [
        "list(map(lambda x:x.upper(),\"data\"))"
      ],
      "metadata": {
        "colab": {
          "base_uri": "https://localhost:8080/"
        },
        "id": "BWA-cFaLfTT-",
        "outputId": "d534bba6-3a74-4ace-e838-6aa0fa66275f"
      },
      "execution_count": 53,
      "outputs": [
        {
          "output_type": "execute_result",
          "data": {
            "text/plain": [
              "['D', 'A', 'T', 'A']"
            ]
          },
          "metadata": {},
          "execution_count": 53
        }
      ]
    },
    {
      "cell_type": "code",
      "source": [
        "def add_and_square(a, b):\n",
        "    def square(n):\n",
        "        return n * n\n",
        "    result = a + b\n",
        "    return square(result)\n",
        "add_and_square(10,20)"
      ],
      "metadata": {
        "colab": {
          "base_uri": "https://localhost:8080/"
        },
        "id": "Ue3RaJ5IfTOV",
        "outputId": "b9ee9644-995c-4ac1-810b-7b74efd83d9c"
      },
      "execution_count": 55,
      "outputs": [
        {
          "output_type": "execute_result",
          "data": {
            "text/plain": [
              "900"
            ]
          },
          "metadata": {},
          "execution_count": 55
        }
      ]
    },
    {
      "cell_type": "code",
      "source": [],
      "metadata": {
        "id": "hT2HcBjZfTLm"
      },
      "execution_count": null,
      "outputs": []
    }
  ]
}