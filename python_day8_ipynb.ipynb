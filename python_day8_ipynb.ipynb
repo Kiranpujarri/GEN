{
  "nbformat": 4,
  "nbformat_minor": 0,
  "metadata": {
    "colab": {
      "provenance": []
    },
    "kernelspec": {
      "name": "python3",
      "display_name": "Python 3"
    },
    "language_info": {
      "name": "python"
    }
  },
  "cells": [
    {
      "cell_type": "code",
      "execution_count": null,
      "metadata": {
        "id": "_zxtU9JaaOMc",
        "colab": {
          "base_uri": "https://localhost:8080/"
        },
        "outputId": "1427de6a-a68e-4729-8982-8109f31deb9a"
      },
      "outputs": [
        {
          "output_type": "stream",
          "name": "stdout",
          "text": [
            "0\n",
            "1\n",
            "2\n",
            "3\n",
            "4\n",
            "5\n",
            "6\n",
            "7\n",
            "8\n",
            "9\n"
          ]
        }
      ],
      "source": [
        "for i in range(0,10):\n",
        " print(i)"
      ]
    },
    {
      "cell_type": "code",
      "source": [
        "for i in range(0,10):\n",
        "  if i==5:\n",
        "    break                  #break= it will stop till, continue,if i=6 then remove 6snd continue\n",
        "  print(i)"
      ],
      "metadata": {
        "colab": {
          "base_uri": "https://localhost:8080/"
        },
        "id": "3i_agle9aWyn",
        "outputId": "68bca66e-771e-4b67-a4bf-e1349916ea71"
      },
      "execution_count": null,
      "outputs": [
        {
          "output_type": "stream",
          "name": "stdout",
          "text": [
            "0\n",
            "1\n",
            "2\n",
            "3\n",
            "4\n"
          ]
        }
      ]
    },
    {
      "cell_type": "code",
      "source": [
        "for i in range(0,5):\n",
        "  for j in range(4,7):\n",
        "    print(i,j)                    # if brrak that no will miss ,if continue full no\n",
        "    if i==4:\n",
        "      continue\n"
      ],
      "metadata": {
        "id": "pI5oybEsaYdH",
        "colab": {
          "base_uri": "https://localhost:8080/"
        },
        "outputId": "433bd3e1-30bf-43ad-8666-08ab01058893"
      },
      "execution_count": null,
      "outputs": [
        {
          "output_type": "stream",
          "name": "stdout",
          "text": [
            "0 4\n",
            "0 5\n",
            "0 6\n",
            "1 4\n",
            "1 5\n",
            "1 6\n",
            "2 4\n",
            "2 5\n",
            "2 6\n",
            "3 4\n",
            "3 5\n",
            "3 6\n",
            "4 4\n",
            "4 5\n",
            "4 6\n"
          ]
        }
      ]
    },
    {
      "cell_type": "code",
      "source": [
        "for i in range(1,10):\n",
        "  if i==50:\n",
        "    break                            # i,50=wrong so it goes to print i\n",
        "  else:\n",
        "      print(i)\n"
      ],
      "metadata": {
        "colab": {
          "base_uri": "https://localhost:8080/"
        },
        "id": "NYIt9pCedo6Y",
        "outputId": "c95f0f3a-3e80-4b9c-9d72-caad65357f3e"
      },
      "execution_count": null,
      "outputs": [
        {
          "output_type": "stream",
          "name": "stdout",
          "text": [
            "1\n",
            "2\n",
            "3\n",
            "4\n",
            "5\n",
            "6\n",
            "7\n",
            "8\n",
            "9\n"
          ]
        }
      ]
    },
    {
      "cell_type": "code",
      "source": [
        "for i in range(1,5):\n",
        "  for j in range(1,5):\n",
        "    if j==4:\n",
        "     break\n",
        "    print(i,j)"
      ],
      "metadata": {
        "colab": {
          "base_uri": "https://localhost:8080/"
        },
        "id": "06OaLXcYlQai",
        "outputId": "77fbe369-da23-4887-f2da-4b2898946da7"
      },
      "execution_count": null,
      "outputs": [
        {
          "output_type": "stream",
          "name": "stdout",
          "text": [
            "1 1\n",
            "1 2\n",
            "1 3\n",
            "2 1\n",
            "2 2\n",
            "2 3\n",
            "3 1\n",
            "3 2\n",
            "3 3\n",
            "4 1\n",
            "4 2\n",
            "4 3\n"
          ]
        }
      ]
    },
    {
      "cell_type": "code",
      "source": [
        "n=5\n",
        "for j in range(1,n+1):\n",
        "  for i in range(1,n+1):\n",
        "\n",
        "    print(i,end=\"\")"
      ],
      "metadata": {
        "colab": {
          "base_uri": "https://localhost:8080/"
        },
        "id": "RHuThE0Ul_fR",
        "outputId": "58c6562d-5f71-4af7-b3d5-8ba2d1519328"
      },
      "execution_count": null,
      "outputs": [
        {
          "output_type": "stream",
          "name": "stdout",
          "text": [
            "1234512345123451234512345"
          ]
        }
      ]
    },
    {
      "cell_type": "code",
      "source": [
        "for i in range(1,6):\n",
        "  for j in range(1,i+1):\n",
        "    print(j,end=\"\")\n",
        "  print()"
      ],
      "metadata": {
        "colab": {
          "base_uri": "https://localhost:8080/"
        },
        "id": "c-grcEAQmBVZ",
        "outputId": "57257b75-61c1-4423-d563-554f51470989"
      },
      "execution_count": null,
      "outputs": [
        {
          "output_type": "stream",
          "name": "stdout",
          "text": [
            "1\n",
            "12\n",
            "123\n",
            "1234\n",
            "12345\n"
          ]
        }
      ]
    },
    {
      "cell_type": "code",
      "source": [
        "for i in range(1,6):\n",
        "  print(i*\"*\")\n"
      ],
      "metadata": {
        "colab": {
          "base_uri": "https://localhost:8080/"
        },
        "id": "L1vos-matbIx",
        "outputId": "55c92821-0c61-4576-9560-e034b4ad62a6"
      },
      "execution_count": null,
      "outputs": [
        {
          "output_type": "stream",
          "name": "stdout",
          "text": [
            "*\n",
            "**\n",
            "***\n",
            "****\n",
            "*****\n"
          ]
        }
      ]
    },
    {
      "cell_type": "code",
      "source": [
        "for i in range(0,6):\n",
        " print(\" \"*(6-i)+i*\"*\")"
      ],
      "metadata": {
        "colab": {
          "base_uri": "https://localhost:8080/"
        },
        "id": "gGPndd_utbFb",
        "outputId": "beda47bc-985b-4054-e75e-1a69664aef4d"
      },
      "execution_count": null,
      "outputs": [
        {
          "output_type": "stream",
          "name": "stdout",
          "text": [
            "      \n",
            "     *\n",
            "    **\n",
            "   ***\n",
            "  ****\n",
            " *****\n"
          ]
        }
      ]
    },
    {
      "cell_type": "code",
      "source": [
        "row=5\n",
        "for i in range(1,row+1):\n",
        " print(\" \"*(row-i)+i*\"*\")"
      ],
      "metadata": {
        "colab": {
          "base_uri": "https://localhost:8080/"
        },
        "id": "I-3WRVPktbDE",
        "outputId": "425f07d8-1457-49a0-c0da-e278778d0a48"
      },
      "execution_count": null,
      "outputs": [
        {
          "output_type": "stream",
          "name": "stdout",
          "text": [
            "    *\n",
            "   **\n",
            "  ***\n",
            " ****\n",
            "*****\n"
          ]
        }
      ]
    },
    {
      "cell_type": "code",
      "source": [],
      "metadata": {
        "id": "w-cVqn12AZ9F"
      },
      "execution_count": null,
      "outputs": []
    },
    {
      "cell_type": "code",
      "source": [
        "for i in range(1,6):\n",
        " print((\"*\"*i).center(10,\" \"))\n"
      ],
      "metadata": {
        "colab": {
          "base_uri": "https://localhost:8080/"
        },
        "id": "x8PjbjwXtbAe",
        "outputId": "2aad8931-136a-4384-a16b-5867c95ab01b"
      },
      "execution_count": null,
      "outputs": [
        {
          "output_type": "stream",
          "name": "stdout",
          "text": [
            "    *     \n",
            "    **    \n",
            "   ***    \n",
            "   ****   \n",
            "  *****   \n"
          ]
        }
      ]
    },
    {
      "cell_type": "code",
      "source": [
        "for i in range(1, 6):\n",
        "    print((\"*\" * i).center(10, \" \"))       # it taken only even no so diffrenc space"
      ],
      "metadata": {
        "colab": {
          "base_uri": "https://localhost:8080/"
        },
        "id": "Bo9nIhqjta9v",
        "outputId": "c236d104-d1f6-4173-b337-9efb1cad1570"
      },
      "execution_count": null,
      "outputs": [
        {
          "output_type": "stream",
          "name": "stdout",
          "text": [
            "    *     \n",
            "    **    \n",
            "   ***    \n",
            "   ****   \n",
            "  *****   \n"
          ]
        }
      ]
    },
    {
      "cell_type": "code",
      "source": [
        "for i in range(1,6):\n",
        " for j in range(1,5):              # it same but += ie will sum both coloum and showed\n",
        "  print(i+j)"
      ],
      "metadata": {
        "id": "N9WVAeC2ta62",
        "colab": {
          "base_uri": "https://localhost:8080/"
        },
        "outputId": "641822e7-02a4-4140-e9f3-6cddb948cdfd"
      },
      "execution_count": null,
      "outputs": [
        {
          "output_type": "stream",
          "name": "stdout",
          "text": [
            "2\n",
            "3\n",
            "4\n",
            "5\n",
            "3\n",
            "4\n",
            "5\n",
            "6\n",
            "4\n",
            "5\n",
            "6\n",
            "7\n",
            "5\n",
            "6\n",
            "7\n",
            "8\n",
            "6\n",
            "7\n",
            "8\n",
            "9\n"
          ]
        }
      ]
    },
    {
      "cell_type": "code",
      "source": [
        "for i in range(1,6):\n",
        " for j in range(1,i+1):               #it given% and print()so inthis angle\n",
        "  print((i+j)%2,end=\" \")\n",
        " print()"
      ],
      "metadata": {
        "id": "vt0G9QRAta4E",
        "colab": {
          "base_uri": "https://localhost:8080/"
        },
        "outputId": "a482e6df-0132-4b0d-c91e-b3d37819fb9c"
      },
      "execution_count": null,
      "outputs": [
        {
          "output_type": "stream",
          "name": "stdout",
          "text": [
            "0 \n",
            "1 0 \n",
            "0 1 0 \n",
            "1 0 1 0 \n",
            "0 1 0 1 0 \n"
          ]
        }
      ]
    },
    {
      "cell_type": "code",
      "source": [
        "for i in range(1,6):\n",
        "  for j in range(1,6-i):              # need %\n",
        "    print((i+j)%2,end=\" \")\n",
        "  print()"
      ],
      "metadata": {
        "id": "VIdMKAX2ta1T",
        "colab": {
          "base_uri": "https://localhost:8080/"
        },
        "outputId": "497aa388-3f01-48e8-a7e3-3aa2edafc2e5"
      },
      "execution_count": null,
      "outputs": [
        {
          "output_type": "stream",
          "name": "stdout",
          "text": [
            "0 1 0 1 \n",
            "1 0 1 \n",
            "0 1 \n",
            "1 \n",
            "\n"
          ]
        }
      ]
    },
    {
      "cell_type": "code",
      "source": [
        "for i in range(1,6):\n",
        "  for j in range(1,6-i):      # both i,j so double in ()\n",
        "    print((i,j),end=\" \")\n",
        "  print()\n"
      ],
      "metadata": {
        "colab": {
          "base_uri": "https://localhost:8080/"
        },
        "id": "TAB0dGCGWUyb",
        "outputId": "043e540b-a9bb-446c-fe78-e1136e873251"
      },
      "execution_count": null,
      "outputs": [
        {
          "output_type": "stream",
          "name": "stdout",
          "text": [
            "(1, 1) (1, 2) (1, 3) (1, 4) \n",
            "(2, 1) (2, 2) (2, 3) \n",
            "(3, 1) (3, 2) \n",
            "(4, 1) \n",
            "\n"
          ]
        }
      ]
    },
    {
      "cell_type": "code",
      "source": [
        "for i in range(1,6):\n",
        "  for j in range(1,6-i):\n",
        "    print(i,end=\" \")                   # only i so single\n",
        "  print()\n"
      ],
      "metadata": {
        "colab": {
          "base_uri": "https://localhost:8080/"
        },
        "id": "k7O8D-vxYRsO",
        "outputId": "538d532f-dbd9-43d6-80c2-660de63d4602"
      },
      "execution_count": null,
      "outputs": [
        {
          "output_type": "stream",
          "name": "stdout",
          "text": [
            "1 1 1 1 \n",
            "2 2 2 \n",
            "3 3 \n",
            "4 \n",
            "\n"
          ]
        }
      ]
    },
    {
      "cell_type": "code",
      "source": [
        "for i in range(1,6):                  # in % same range\n",
        "  for j in range(1,6):                #checker board pattern\n",
        "     print((i+j)%2,end=\" \")\n",
        "  print()"
      ],
      "metadata": {
        "colab": {
          "base_uri": "https://localhost:8080/"
        },
        "id": "JB62zSQgYc4N",
        "outputId": "2dfee938-4bf2-463b-ca7f-95fe05c16f70"
      },
      "execution_count": null,
      "outputs": [
        {
          "output_type": "stream",
          "name": "stdout",
          "text": [
            "0 1 0 1 0 \n",
            "1 0 1 0 1 \n",
            "0 1 0 1 0 \n",
            "1 0 1 0 1 \n",
            "0 1 0 1 0 \n"
          ]
        }
      ]
    },
    {
      "cell_type": "code",
      "source": [],
      "metadata": {
        "id": "NtalCVTfYyTd"
      },
      "execution_count": null,
      "outputs": []
    }
  ]
}