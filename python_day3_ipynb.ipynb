{
  "nbformat": 4,
  "nbformat_minor": 0,
  "metadata": {
    "colab": {
      "provenance": []
    },
    "kernelspec": {
      "name": "python3",
      "display_name": "Python 3"
    },
    "language_info": {
      "name": "python"
    }
  },
  "cells": [
    {
      "cell_type": "code",
      "execution_count": null,
      "metadata": {
        "id": "Q2lScLtgRa8U"
      },
      "outputs": [],
      "source": []
    },
    {
      "cell_type": "code",
      "source": [
        "a=10.5+5j\n",
        "type(a)"
      ],
      "metadata": {
        "id": "-2MPcNF1RwDG",
        "colab": {
          "base_uri": "https://localhost:8080/"
        },
        "outputId": "05a1bc93-e933-4b23-a178-e19f04e519cd"
      },
      "execution_count": null,
      "outputs": [
        {
          "output_type": "execute_result",
          "data": {
            "text/plain": [
              "complex"
            ]
          },
          "metadata": {},
          "execution_count": 97
        }
      ]
    },
    {
      "cell_type": "code",
      "source": [
        "string=\"flow\"\n",
        "type(string)"
      ],
      "metadata": {
        "colab": {
          "base_uri": "https://localhost:8080/"
        },
        "id": "A50nqdiWLNgk",
        "outputId": "29c68a2b-9b31-4e47-b3fd-27c19f5ee670",
        "collapsed": true
      },
      "execution_count": null,
      "outputs": [
        {
          "output_type": "execute_result",
          "data": {
            "text/plain": [
              "str"
            ]
          },
          "metadata": {},
          "execution_count": 98
        }
      ]
    },
    {
      "cell_type": "code",
      "source": [
        "tuple1=(\"apple\",\"ball\",\"cat\")\n",
        "tuple2=(\"dog\",\"elephant\",\"fish\")\n",
        "print(tuple1 + tuple2)"
      ],
      "metadata": {
        "id": "_dXl3jR0MBwK",
        "colab": {
          "base_uri": "https://localhost:8080/"
        },
        "outputId": "928fd500-ab14-47df-fbc4-b0a3cba89ff1"
      },
      "execution_count": null,
      "outputs": [
        {
          "output_type": "stream",
          "name": "stdout",
          "text": [
            "('apple', 'ball', 'cat', 'dog', 'elephant', 'fish')\n"
          ]
        }
      ]
    },
    {
      "cell_type": "code",
      "source": [],
      "metadata": {
        "id": "XSCgwmR8lxrm"
      },
      "execution_count": null,
      "outputs": []
    },
    {
      "cell_type": "code",
      "source": [
        "import keyword\n",
        "print (keyword.kwlist)"
      ],
      "metadata": {
        "id": "J8Af8ftJLNdE",
        "colab": {
          "base_uri": "https://localhost:8080/"
        },
        "outputId": "be00443b-b94d-4a45-e385-6ecf7994e86d"
      },
      "execution_count": null,
      "outputs": [
        {
          "output_type": "stream",
          "name": "stdout",
          "text": [
            "['False', 'None', 'True', 'and', 'as', 'assert', 'async', 'await', 'break', 'class', 'continue', 'def', 'del', 'elif', 'else', 'except', 'finally', 'for', 'from', 'global', 'if', 'import', 'in', 'is', 'lambda', 'nonlocal', 'not', 'or', 'pass', 'raise', 'return', 'try', 'while', 'with', 'yield']\n"
          ]
        }
      ]
    },
    {
      "cell_type": "code",
      "source": [
        "a=[1,2,3,4]\n"
      ],
      "metadata": {
        "id": "51vVJE9yLNaB"
      },
      "execution_count": null,
      "outputs": []
    },
    {
      "cell_type": "code",
      "source": [
        "a=10\n",
        "b=20\n",
        "c=a+b\n",
        "print(c)"
      ],
      "metadata": {
        "id": "su-UMOm-LNXc",
        "colab": {
          "base_uri": "https://localhost:8080/"
        },
        "outputId": "adf79033-e838-4826-88fb-6358be4c2541"
      },
      "execution_count": null,
      "outputs": [
        {
          "output_type": "stream",
          "name": "stdout",
          "text": [
            "30\n"
          ]
        }
      ]
    },
    {
      "cell_type": "code",
      "source": [
        "a=10\n",
        "type(a)"
      ],
      "metadata": {
        "id": "VrfDeNmFLNU2",
        "colab": {
          "base_uri": "https://localhost:8080/"
        },
        "outputId": "d1f552cd-c46b-4b88-fbe7-352679286bcd"
      },
      "execution_count": null,
      "outputs": [
        {
          "output_type": "execute_result",
          "data": {
            "text/plain": [
              "int"
            ]
          },
          "metadata": {},
          "execution_count": 103
        }
      ]
    },
    {
      "cell_type": "code",
      "source": [
        "name=\"kiran pujarri\"\n",
        "print (name)"
      ],
      "metadata": {
        "id": "y-JPVqwmLNSD",
        "colab": {
          "base_uri": "https://localhost:8080/"
        },
        "outputId": "7a108d19-974c-4c46-ab78-e772086872fe"
      },
      "execution_count": null,
      "outputs": [
        {
          "output_type": "stream",
          "name": "stdout",
          "text": [
            "kiran pujarri\n"
          ]
        }
      ]
    },
    {
      "cell_type": "code",
      "source": [
        "name = \"kiran\"\n",
        "print(name)"
      ],
      "metadata": {
        "id": "VM52lGmSLNPj",
        "colab": {
          "base_uri": "https://localhost:8080/"
        },
        "outputId": "b5051c39-a186-4143-85f4-7e5e3cc8855b"
      },
      "execution_count": null,
      "outputs": [
        {
          "output_type": "stream",
          "name": "stdout",
          "text": [
            "kiran\n"
          ]
        }
      ]
    },
    {
      "cell_type": "code",
      "source": [
        "age = \"23\"\n",
        "print(age)"
      ],
      "metadata": {
        "id": "ZxWLcjfmLNM3",
        "colab": {
          "base_uri": "https://localhost:8080/"
        },
        "outputId": "19645939-6c11-4e8f-a84a-ef70c5aefa6b"
      },
      "execution_count": null,
      "outputs": [
        {
          "output_type": "stream",
          "name": "stdout",
          "text": [
            "23\n"
          ]
        }
      ]
    },
    {
      "cell_type": "code",
      "source": [
        "name = \"kiran\"\n",
        "age = \"23\"\n",
        "print(name,age)"
      ],
      "metadata": {
        "id": "lj9MJZhiLNJ6",
        "colab": {
          "base_uri": "https://localhost:8080/"
        },
        "outputId": "e7371f00-2d5a-4fd4-e490-53fee13d9054"
      },
      "execution_count": null,
      "outputs": [
        {
          "output_type": "stream",
          "name": "stdout",
          "text": [
            "kiran 23\n"
          ]
        }
      ]
    },
    {
      "cell_type": "code",
      "source": [
        "a=10.6\n",
        "type(a)"
      ],
      "metadata": {
        "id": "f5B9MngIS0Lh",
        "colab": {
          "base_uri": "https://localhost:8080/"
        },
        "outputId": "384c6d8e-9178-4d72-a7ce-701a2c4f096c"
      },
      "execution_count": null,
      "outputs": [
        {
          "output_type": "execute_result",
          "data": {
            "text/plain": [
              "float"
            ]
          },
          "metadata": {},
          "execution_count": 108
        }
      ]
    },
    {
      "cell_type": "code",
      "source": [
        "k=True\n",
        "type(k)"
      ],
      "metadata": {
        "colab": {
          "base_uri": "https://localhost:8080/"
        },
        "id": "an7ZekLkzEZF",
        "outputId": "3d6382d1-80c2-4553-e938-d579eb0d1877"
      },
      "execution_count": null,
      "outputs": [
        {
          "output_type": "execute_result",
          "data": {
            "text/plain": [
              "bool"
            ]
          },
          "metadata": {},
          "execution_count": 109
        }
      ]
    },
    {
      "cell_type": "code",
      "source": [
        "a=(50); b=(50); c=(a+b)\n",
        "print(c)"
      ],
      "metadata": {
        "colab": {
          "base_uri": "https://localhost:8080/"
        },
        "id": "QEpZz2LYQvOi",
        "outputId": "681b96cc-0931-4114-e37c-a9a6fae50555"
      },
      "execution_count": null,
      "outputs": [
        {
          "output_type": "stream",
          "name": "stdout",
          "text": [
            "100\n"
          ]
        }
      ]
    },
    {
      "cell_type": "code",
      "source": [
        "k=(100);m=(85);n=(k-m)\n",
        "print(n)"
      ],
      "metadata": {
        "colab": {
          "base_uri": "https://localhost:8080/"
        },
        "id": "9ES64NOGre6e",
        "outputId": "7aeefc31-cc58-4047-c51e-76c2fbca59e7"
      },
      "execution_count": null,
      "outputs": [
        {
          "output_type": "stream",
          "name": "stdout",
          "text": [
            "15\n"
          ]
        }
      ]
    },
    {
      "cell_type": "code",
      "source": [
        "string =\"data science\""
      ],
      "metadata": {
        "id": "9j-Nn-3uregc"
      },
      "execution_count": null,
      "outputs": []
    },
    {
      "cell_type": "code",
      "source": [
        "string"
      ],
      "metadata": {
        "colab": {
          "base_uri": "https://localhost:8080/",
          "height": 35
        },
        "id": "2IhiSp0R4URJ",
        "outputId": "c7d01728-fb0d-4497-ff6d-481ad452ceff"
      },
      "execution_count": null,
      "outputs": [
        {
          "output_type": "execute_result",
          "data": {
            "text/plain": [
              "'data science'"
            ],
            "application/vnd.google.colaboratory.intrinsic+json": {
              "type": "string"
            }
          },
          "metadata": {},
          "execution_count": 113
        }
      ]
    },
    {
      "cell_type": "code",
      "source": [
        "type(string)"
      ],
      "metadata": {
        "colab": {
          "base_uri": "https://localhost:8080/"
        },
        "id": "oXFFh5hN4UAH",
        "outputId": "8ad6cd2f-a8e9-42ec-fcba-a61264f3e6c7"
      },
      "execution_count": null,
      "outputs": [
        {
          "output_type": "execute_result",
          "data": {
            "text/plain": [
              "str"
            ]
          },
          "metadata": {},
          "execution_count": 114
        }
      ]
    },
    {
      "cell_type": "code",
      "source": [
        "string[0:9]"
      ],
      "metadata": {
        "colab": {
          "base_uri": "https://localhost:8080/",
          "height": 35
        },
        "id": "B5U1UEeP4T8m",
        "outputId": "30083f1b-58a8-40cd-9f02-0c73789d70ad"
      },
      "execution_count": null,
      "outputs": [
        {
          "output_type": "execute_result",
          "data": {
            "text/plain": [
              "'data scie'"
            ],
            "application/vnd.google.colaboratory.intrinsic+json": {
              "type": "string"
            }
          },
          "metadata": {},
          "execution_count": 115
        }
      ]
    },
    {
      "cell_type": "code",
      "source": [
        "print(string[8])"
      ],
      "metadata": {
        "colab": {
          "base_uri": "https://localhost:8080/"
        },
        "id": "jSc-ZHcY4T5_",
        "outputId": "a52b1e41-2e28-45d0-eb93-df3df9b4fd89"
      },
      "execution_count": null,
      "outputs": [
        {
          "output_type": "stream",
          "name": "stdout",
          "text": [
            "e\n"
          ]
        }
      ]
    },
    {
      "cell_type": "code",
      "source": [
        "string[2:6]"
      ],
      "metadata": {
        "colab": {
          "base_uri": "https://localhost:8080/",
          "height": 35
        },
        "id": "cagyZEIF4T3S",
        "outputId": "1a8040ce-bda2-4f6d-9521-9b8b2ac95557"
      },
      "execution_count": null,
      "outputs": [
        {
          "output_type": "execute_result",
          "data": {
            "text/plain": [
              "'ta s'"
            ],
            "application/vnd.google.colaboratory.intrinsic+json": {
              "type": "string"
            }
          },
          "metadata": {},
          "execution_count": 117
        }
      ]
    },
    {
      "cell_type": "code",
      "source": [
        "string1=\"data science\"\n",
        "string2=\"data analytics\"\n",
        "string3=\"data engineering\""
      ],
      "metadata": {
        "id": "1VoSS1lK9R3t"
      },
      "execution_count": null,
      "outputs": []
    },
    {
      "cell_type": "code",
      "source": [
        "string1.upper()"
      ],
      "metadata": {
        "colab": {
          "base_uri": "https://localhost:8080/",
          "height": 35
        },
        "id": "b9oJTAUy9R0L",
        "outputId": "bf75e73e-86ef-40ce-87b9-360ad0185047"
      },
      "execution_count": null,
      "outputs": [
        {
          "output_type": "execute_result",
          "data": {
            "text/plain": [
              "'DATA SCIENCE'"
            ],
            "application/vnd.google.colaboratory.intrinsic+json": {
              "type": "string"
            }
          },
          "metadata": {},
          "execution_count": 119
        }
      ]
    },
    {
      "cell_type": "code",
      "source": [
        "print(string1)\n",
        "string1.isupper()"
      ],
      "metadata": {
        "colab": {
          "base_uri": "https://localhost:8080/"
        },
        "id": "_ACT4Zw_9Rxn",
        "outputId": "f06f746f-fc36-442e-a1f9-165d482b82a4"
      },
      "execution_count": null,
      "outputs": [
        {
          "output_type": "stream",
          "name": "stdout",
          "text": [
            "data science\n"
          ]
        },
        {
          "output_type": "execute_result",
          "data": {
            "text/plain": [
              "False"
            ]
          },
          "metadata": {},
          "execution_count": 120
        }
      ]
    },
    {
      "cell_type": "code",
      "source": [
        "print(string2)\n",
        "string2.islower()"
      ],
      "metadata": {
        "colab": {
          "base_uri": "https://localhost:8080/"
        },
        "id": "E_-p1MhY9Rul",
        "outputId": "87bdddbb-2580-4829-f0d7-b2ae33944a23"
      },
      "execution_count": null,
      "outputs": [
        {
          "output_type": "stream",
          "name": "stdout",
          "text": [
            "data analytics\n"
          ]
        },
        {
          "output_type": "execute_result",
          "data": {
            "text/plain": [
              "True"
            ]
          },
          "metadata": {},
          "execution_count": 121
        }
      ]
    },
    {
      "cell_type": "code",
      "source": [
        "string1"
      ],
      "metadata": {
        "colab": {
          "base_uri": "https://localhost:8080/",
          "height": 35
        },
        "id": "h2jDuOXm9Rr9",
        "outputId": "0c2f4424-2628-40dc-aec3-6f16022e4a0f"
      },
      "execution_count": null,
      "outputs": [
        {
          "output_type": "execute_result",
          "data": {
            "text/plain": [
              "'data science'"
            ],
            "application/vnd.google.colaboratory.intrinsic+json": {
              "type": "string"
            }
          },
          "metadata": {},
          "execution_count": 122
        }
      ]
    },
    {
      "cell_type": "code",
      "source": [
        "x=[\"machine\",\"learning\",\"data\",\"science\",[1,2,3]]\n",
        "x[-1]"
      ],
      "metadata": {
        "id": "6UJvmg1_9RpH",
        "colab": {
          "base_uri": "https://localhost:8080/"
        },
        "outputId": "2111932c-6337-445d-bf21-a59c5f80435b"
      },
      "execution_count": null,
      "outputs": [
        {
          "output_type": "execute_result",
          "data": {
            "text/plain": [
              "[1, 2, 3]"
            ]
          },
          "metadata": {},
          "execution_count": 123
        }
      ]
    },
    {
      "cell_type": "code",
      "source": [
        "x=[\"machine\",\"learning\",[\"data\",\"science\"]]\n",
        "x[-1][-1][0:3]"
      ],
      "metadata": {
        "id": "mX6t3AfK9Rmg",
        "colab": {
          "base_uri": "https://localhost:8080/",
          "height": 35
        },
        "outputId": "0dd3b6e1-8789-497b-8930-bcc0927da480"
      },
      "execution_count": null,
      "outputs": [
        {
          "output_type": "execute_result",
          "data": {
            "text/plain": [
              "'sci'"
            ],
            "application/vnd.google.colaboratory.intrinsic+json": {
              "type": "string"
            }
          },
          "metadata": {},
          "execution_count": 124
        }
      ]
    },
    {
      "cell_type": "code",
      "source": [
        "x=[\"machine\",\"learning\",[\"data\",\"science\"]]  #IMP\n",
        "x[2][-1][-3:].upper()"
      ],
      "metadata": {
        "colab": {
          "base_uri": "https://localhost:8080/",
          "height": 35
        },
        "id": "cdnEIhLAZ12F",
        "outputId": "93147748-2d41-4172-eece-12a2172c144e"
      },
      "execution_count": null,
      "outputs": [
        {
          "output_type": "execute_result",
          "data": {
            "text/plain": [
              "'NCE'"
            ],
            "application/vnd.google.colaboratory.intrinsic+json": {
              "type": "string"
            }
          },
          "metadata": {},
          "execution_count": 125
        }
      ]
    },
    {
      "cell_type": "code",
      "source": [
        "customers=[[\"ravi\",[\"sheet\",\"bed\"]],\n",
        "          [\"raj\",[\"paste\",\"bursh\",\"oil\"]],\n",
        "          [\"kiran\",[\"phone\",\"belt\",\"watch\"]],\n",
        "          [\"sonu\",[\"buds\",\"earphone\",\"watch\"]]]\n"
      ],
      "metadata": {
        "id": "Zz381hWcZ1ys"
      },
      "execution_count": null,
      "outputs": []
    },
    {
      "cell_type": "code",
      "source": [
        "customers"
      ],
      "metadata": {
        "colab": {
          "base_uri": "https://localhost:8080/"
        },
        "id": "Gv4alemIZ1wD",
        "outputId": "54001c58-0884-46b4-fe00-8520fd80a9ed"
      },
      "execution_count": null,
      "outputs": [
        {
          "output_type": "execute_result",
          "data": {
            "text/plain": [
              "[['ravi', ['sheet', 'bed']],\n",
              " ['raj', ['paste', 'bursh', 'oil']],\n",
              " ['kiran', ['phone', 'belt', 'watch']],\n",
              " ['sonu', ['buds', 'earphone', 'watch']]]"
            ]
          },
          "metadata": {},
          "execution_count": 127
        }
      ]
    },
    {
      "cell_type": "code",
      "source": [
        "customers[2][-1][-2]"
      ],
      "metadata": {
        "colab": {
          "base_uri": "https://localhost:8080/",
          "height": 35
        },
        "id": "mNbqy5drZ1tg",
        "outputId": "a5df8f49-41d1-422e-972d-a3bc77e90067"
      },
      "execution_count": null,
      "outputs": [
        {
          "output_type": "execute_result",
          "data": {
            "text/plain": [
              "'belt'"
            ],
            "application/vnd.google.colaboratory.intrinsic+json": {
              "type": "string"
            }
          },
          "metadata": {},
          "execution_count": 128
        }
      ]
    },
    {
      "cell_type": "code",
      "source": [
        "customers[2][-2][0:3].upper()"
      ],
      "metadata": {
        "colab": {
          "base_uri": "https://localhost:8080/",
          "height": 35
        },
        "id": "JvtL-ZpVZ1q6",
        "outputId": "eebb9eed-2c63-4b10-d733-38ec75cae177"
      },
      "execution_count": null,
      "outputs": [
        {
          "output_type": "execute_result",
          "data": {
            "text/plain": [
              "'KIR'"
            ],
            "application/vnd.google.colaboratory.intrinsic+json": {
              "type": "string"
            }
          },
          "metadata": {},
          "execution_count": 129
        }
      ]
    },
    {
      "cell_type": "code",
      "source": [
        "customers=[[\"ravi\",[\"sheet\",28],[\"bed\",14]],\n",
        "          [\"raj\",[\"paste\",30],[\"bursh\",50],[\"oil\",60]],\n",
        "          [\"kiran\",[\"phone\",23],[\"belt\",60],[\"watch\",41]]]"
      ],
      "metadata": {
        "id": "-6QgMpJQZ1oE"
      },
      "execution_count": null,
      "outputs": []
    },
    {
      "cell_type": "code",
      "source": [
        "customers[-1][-1][-1]+customers[-2][-1][-1]"
      ],
      "metadata": {
        "colab": {
          "base_uri": "https://localhost:8080/"
        },
        "id": "_CgUig1Ak0kt",
        "outputId": "ae50ad0d-7c8c-49fd-c7a4-781fd1a872e5"
      },
      "execution_count": null,
      "outputs": [
        {
          "output_type": "execute_result",
          "data": {
            "text/plain": [
              "101"
            ]
          },
          "metadata": {},
          "execution_count": 131
        }
      ]
    },
    {
      "cell_type": "code",
      "source": [
        "len(customers)"
      ],
      "metadata": {
        "id": "KH_psnmUneIx",
        "colab": {
          "base_uri": "https://localhost:8080/"
        },
        "outputId": "065e60d2-2d35-4849-906d-9123326360c4"
      },
      "execution_count": null,
      "outputs": [
        {
          "output_type": "execute_result",
          "data": {
            "text/plain": [
              "3"
            ]
          },
          "metadata": {},
          "execution_count": 132
        }
      ]
    },
    {
      "cell_type": "code",
      "source": [
        "x=[1,2,3,4]"
      ],
      "metadata": {
        "id": "mkJnrasFo7-g"
      },
      "execution_count": null,
      "outputs": []
    },
    {
      "cell_type": "code",
      "source": [
        "x"
      ],
      "metadata": {
        "colab": {
          "base_uri": "https://localhost:8080/"
        },
        "id": "fDPr27Xorf9n",
        "outputId": "93e9f39b-34ab-4c56-c009-e77aa6ef3f3c"
      },
      "execution_count": null,
      "outputs": [
        {
          "output_type": "execute_result",
          "data": {
            "text/plain": [
              "[1, 2, 3, 4]"
            ]
          },
          "metadata": {},
          "execution_count": 134
        }
      ]
    },
    {
      "cell_type": "code",
      "source": [
        "x.append(20)"
      ],
      "metadata": {
        "id": "p5r0RYsOrf6A"
      },
      "execution_count": null,
      "outputs": []
    },
    {
      "cell_type": "code",
      "source": [
        "x"
      ],
      "metadata": {
        "colab": {
          "base_uri": "https://localhost:8080/"
        },
        "id": "mC9g891krf3N",
        "outputId": "8422553f-09e0-4b17-e5ba-f156f69378c0"
      },
      "execution_count": null,
      "outputs": [
        {
          "output_type": "execute_result",
          "data": {
            "text/plain": [
              "[1, 2, 3, 4, 20]"
            ]
          },
          "metadata": {},
          "execution_count": 136
        }
      ]
    },
    {
      "cell_type": "code",
      "source": [
        "x.extend(\"data\")"
      ],
      "metadata": {
        "id": "M9ZzPwAyrfys"
      },
      "execution_count": null,
      "outputs": []
    },
    {
      "cell_type": "code",
      "source": [
        "x"
      ],
      "metadata": {
        "colab": {
          "base_uri": "https://localhost:8080/"
        },
        "id": "GVlw3hmFrfrC",
        "outputId": "d34fa885-6f05-495f-dda1-f231ea896870"
      },
      "execution_count": null,
      "outputs": [
        {
          "output_type": "execute_result",
          "data": {
            "text/plain": [
              "[1, 2, 3, 4, 20, 'd', 'a', 't', 'a']"
            ]
          },
          "metadata": {},
          "execution_count": 138
        }
      ]
    },
    {
      "cell_type": "code",
      "source": [
        "x=[1,2,3,]\n",
        "y=[4,5,6,]"
      ],
      "metadata": {
        "id": "uGKBbUGV4eqs"
      },
      "execution_count": null,
      "outputs": []
    },
    {
      "cell_type": "code",
      "source": [
        "x.extend(y)"
      ],
      "metadata": {
        "id": "Um4d4SG64oi0"
      },
      "execution_count": null,
      "outputs": []
    },
    {
      "cell_type": "code",
      "source": [
        "x"
      ],
      "metadata": {
        "colab": {
          "base_uri": "https://localhost:8080/"
        },
        "id": "8zP51p-a4vpf",
        "outputId": "d4ba3d65-36bf-4faa-ac2e-34c9f36ff3d1"
      },
      "execution_count": null,
      "outputs": [
        {
          "output_type": "execute_result",
          "data": {
            "text/plain": [
              "[1, 2, 3, 4, 5, 6]"
            ]
          },
          "metadata": {},
          "execution_count": 141
        }
      ]
    },
    {
      "cell_type": "code",
      "source": [
        "x.insert(2,\"data\")"
      ],
      "metadata": {
        "id": "PkPwesmR5-QZ"
      },
      "execution_count": null,
      "outputs": []
    },
    {
      "cell_type": "code",
      "source": [
        "x"
      ],
      "metadata": {
        "colab": {
          "base_uri": "https://localhost:8080/"
        },
        "id": "qqLUp1Ua6Kf7",
        "outputId": "dad32609-0cc5-4e70-93cd-2102860a852c"
      },
      "execution_count": null,
      "outputs": [
        {
          "output_type": "execute_result",
          "data": {
            "text/plain": [
              "[1, 2, 'data', 3, 4, 5, 6]"
            ]
          },
          "metadata": {},
          "execution_count": 143
        }
      ]
    },
    {
      "cell_type": "code",
      "source": [
        "x=[1,2,3,4]"
      ],
      "metadata": {
        "id": "O0Szjcez6KdD"
      },
      "execution_count": null,
      "outputs": []
    },
    {
      "cell_type": "code",
      "source": [
        "x"
      ],
      "metadata": {
        "colab": {
          "base_uri": "https://localhost:8080/"
        },
        "id": "uSO9e-ax6Kad",
        "outputId": "c57e2fcd-7529-4099-d51e-ea56c1ce5349"
      },
      "execution_count": null,
      "outputs": [
        {
          "output_type": "execute_result",
          "data": {
            "text/plain": [
              "[1, 2, 3, 4]"
            ]
          },
          "metadata": {},
          "execution_count": 145
        }
      ]
    },
    {
      "cell_type": "code",
      "source": [
        "x.pop(2)"
      ],
      "metadata": {
        "colab": {
          "base_uri": "https://localhost:8080/"
        },
        "id": "-lg_wOXn8kk8",
        "outputId": "28536782-d4b8-48b6-9228-1ab88dc8c02c"
      },
      "execution_count": null,
      "outputs": [
        {
          "output_type": "execute_result",
          "data": {
            "text/plain": [
              "3"
            ]
          },
          "metadata": {},
          "execution_count": 146
        }
      ]
    },
    {
      "cell_type": "code",
      "source": [
        "x"
      ],
      "metadata": {
        "colab": {
          "base_uri": "https://localhost:8080/"
        },
        "id": "RzU415mM6KU7",
        "outputId": "f9a13505-7749-472f-dc87-7ddb020f3236"
      },
      "execution_count": null,
      "outputs": [
        {
          "output_type": "execute_result",
          "data": {
            "text/plain": [
              "[1, 2, 4]"
            ]
          },
          "metadata": {},
          "execution_count": 147
        }
      ]
    },
    {
      "cell_type": "code",
      "source": [
        "x=[1,2,3,4]"
      ],
      "metadata": {
        "id": "1s8xU3XK7YUN"
      },
      "execution_count": null,
      "outputs": []
    },
    {
      "cell_type": "code",
      "source": [
        "x.remove(2)"
      ],
      "metadata": {
        "id": "5sxeHY9g7HGY"
      },
      "execution_count": null,
      "outputs": []
    },
    {
      "cell_type": "code",
      "source": [
        "x"
      ],
      "metadata": {
        "colab": {
          "base_uri": "https://localhost:8080/"
        },
        "id": "fekt9Cz87N4K",
        "outputId": "d6371c6f-e3d9-4082-e4f2-9455bbfb12bf"
      },
      "execution_count": null,
      "outputs": [
        {
          "output_type": "execute_result",
          "data": {
            "text/plain": [
              "[1, 3, 4]"
            ]
          },
          "metadata": {},
          "execution_count": 150
        }
      ]
    },
    {
      "cell_type": "code",
      "source": [
        "x=[1,2,3,4,5,6,6,66,6]\n",
        "x.count(6)"
      ],
      "metadata": {
        "colab": {
          "base_uri": "https://localhost:8080/"
        },
        "id": "MVGTgHYY7PAa",
        "outputId": "8ac83720-10d5-41c4-e110-074462d3a307"
      },
      "execution_count": null,
      "outputs": [
        {
          "output_type": "execute_result",
          "data": {
            "text/plain": [
              "3"
            ]
          },
          "metadata": {},
          "execution_count": 151
        }
      ]
    },
    {
      "cell_type": "code",
      "source": [
        "x.index(5,6)"
      ],
      "metadata": {
        "colab": {
          "base_uri": "https://localhost:8080/",
          "height": 145
        },
        "id": "5oWUeU3l9IZl",
        "outputId": "a92790f0-d881-44fb-ad50-a207a9b049f8"
      },
      "execution_count": null,
      "outputs": [
        {
          "output_type": "error",
          "ename": "ValueError",
          "evalue": "5 is not in list",
          "traceback": [
            "\u001b[0;31m---------------------------------------------------------------------------\u001b[0m",
            "\u001b[0;31mValueError\u001b[0m                                Traceback (most recent call last)",
            "\u001b[0;32m/tmp/ipython-input-156-124207151.py\u001b[0m in \u001b[0;36m<cell line: 0>\u001b[0;34m()\u001b[0m\n\u001b[0;32m----> 1\u001b[0;31m \u001b[0mx\u001b[0m\u001b[0;34m.\u001b[0m\u001b[0mindex\u001b[0m\u001b[0;34m(\u001b[0m\u001b[0;36m5\u001b[0m\u001b[0;34m,\u001b[0m\u001b[0;36m6\u001b[0m\u001b[0;34m)\u001b[0m\u001b[0;34m\u001b[0m\u001b[0;34m\u001b[0m\u001b[0m\n\u001b[0m",
            "\u001b[0;31mValueError\u001b[0m: 5 is not in list"
          ]
        }
      ]
    },
    {
      "cell_type": "code",
      "source": [],
      "metadata": {
        "id": "Vgh0nGX39IWo"
      },
      "execution_count": null,
      "outputs": []
    },
    {
      "cell_type": "code",
      "source": [],
      "metadata": {
        "id": "uYAvxQ9s9IUQ"
      },
      "execution_count": null,
      "outputs": []
    },
    {
      "cell_type": "code",
      "source": [],
      "metadata": {
        "id": "OX29DVVr9IRl"
      },
      "execution_count": null,
      "outputs": []
    },
    {
      "cell_type": "code",
      "source": [],
      "metadata": {
        "id": "pkM7mB4C9IO0"
      },
      "execution_count": null,
      "outputs": []
    }
  ]
}