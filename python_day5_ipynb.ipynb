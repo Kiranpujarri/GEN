{
  "nbformat": 4,
  "nbformat_minor": 0,
  "metadata": {
    "colab": {
      "provenance": []
    },
    "kernelspec": {
      "name": "python3",
      "display_name": "Python 3"
    },
    "language_info": {
      "name": "python"
    }
  },
  "cells": [
    {
      "cell_type": "code",
      "execution_count": null,
      "metadata": {
        "colab": {
          "base_uri": "https://localhost:8080/"
        },
        "id": "RrAwVtFfjGbY",
        "outputId": "63b2a170-cd52-4e70-c7a5-3088f44a7b9b"
      },
      "outputs": [
        {
          "output_type": "execute_result",
          "data": {
            "text/plain": [
              "{1, 2, 3, 4, 5}"
            ]
          },
          "metadata": {},
          "execution_count": 1
        }
      ],
      "source": [
        "x={1,2,3,3,4,5}\n",
        "x"
      ]
    },
    {
      "cell_type": "code",
      "source": [
        "x={\"key\":10, \"key2\":20}\n",
        "x"
      ],
      "metadata": {
        "colab": {
          "base_uri": "https://localhost:8080/"
        },
        "id": "jN75hRGWjPEL",
        "outputId": "3e572c1a-9868-42ae-e9dd-5fe02a3ec360"
      },
      "execution_count": null,
      "outputs": [
        {
          "output_type": "execute_result",
          "data": {
            "text/plain": [
              "{'key': 10, 'key2': 20}"
            ]
          },
          "metadata": {},
          "execution_count": 2
        }
      ]
    },
    {
      "cell_type": "code",
      "source": [
        "type(x)"
      ],
      "metadata": {
        "colab": {
          "base_uri": "https://localhost:8080/"
        },
        "id": "53UJLok5jPAz",
        "outputId": "55c1ccd7-06bb-4d71-c3c6-04097da25bda"
      },
      "execution_count": null,
      "outputs": [
        {
          "output_type": "execute_result",
          "data": {
            "text/plain": [
              "dict"
            ]
          },
          "metadata": {},
          "execution_count": 3
        }
      ]
    },
    {
      "cell_type": "code",
      "source": [
        "x={20:\"key\", 20.3:\"key\"}           # only list doesnt support key declration ,   (list support in values not keys)\n",
        "print(x)\n"
      ],
      "metadata": {
        "colab": {
          "base_uri": "https://localhost:8080/"
        },
        "id": "yKQYImx8jO-R",
        "outputId": "b7aa3044-4727-4f7b-d05f-cac7939f862a"
      },
      "execution_count": null,
      "outputs": [
        {
          "output_type": "stream",
          "name": "stdout",
          "text": [
            "{20: 'key', 20.3: 'key'}\n"
          ]
        }
      ]
    },
    {
      "cell_type": "code",
      "source": [
        "y={[1,2,3]:\"key\"}             # ex - list not working as key\n",
        "y"
      ],
      "metadata": {
        "colab": {
          "base_uri": "https://localhost:8080/",
          "height": 163
        },
        "id": "ZQ-lYmbfjO7d",
        "outputId": "9eaff215-2d8e-466e-b8c4-4ba7f21c3e67"
      },
      "execution_count": null,
      "outputs": [
        {
          "output_type": "error",
          "ename": "TypeError",
          "evalue": "unhashable type: 'list'",
          "traceback": [
            "\u001b[0;31m---------------------------------------------------------------------------\u001b[0m",
            "\u001b[0;31mTypeError\u001b[0m                                 Traceback (most recent call last)",
            "\u001b[0;32m/tmp/ipython-input-12-3165117439.py\u001b[0m in \u001b[0;36m<cell line: 0>\u001b[0;34m()\u001b[0m\n\u001b[0;32m----> 1\u001b[0;31m \u001b[0my\u001b[0m\u001b[0;34m=\u001b[0m\u001b[0;34m{\u001b[0m\u001b[0;34m[\u001b[0m\u001b[0;36m1\u001b[0m\u001b[0;34m,\u001b[0m\u001b[0;36m2\u001b[0m\u001b[0;34m,\u001b[0m\u001b[0;36m3\u001b[0m\u001b[0;34m]\u001b[0m\u001b[0;34m:\u001b[0m\u001b[0;34m\"key\"\u001b[0m\u001b[0;34m}\u001b[0m             \u001b[0;31m# ex - list not working as key\u001b[0m\u001b[0;34m\u001b[0m\u001b[0;34m\u001b[0m\u001b[0m\n\u001b[0m\u001b[1;32m      2\u001b[0m \u001b[0my\u001b[0m\u001b[0;34m\u001b[0m\u001b[0;34m\u001b[0m\u001b[0m\n",
            "\u001b[0;31mTypeError\u001b[0m: unhashable type: 'list'"
          ]
        }
      ]
    },
    {
      "cell_type": "code",
      "source": [
        "my_dict={\"name\":\"kiran pujarri\",\n",
        "\"age\":23,\n",
        "\"location\":\"banglore\"}\n",
        "my_dict[\"name\"],my_dict[\"age\"],my_dict[\"location\"]\n"
      ],
      "metadata": {
        "colab": {
          "base_uri": "https://localhost:8080/"
        },
        "id": "inzzJ42RjO4r",
        "outputId": "82fcbec0-5494-4ee9-973a-26e035403b76"
      },
      "execution_count": null,
      "outputs": [
        {
          "output_type": "execute_result",
          "data": {
            "text/plain": [
              "('kiran pujarri', 23, 'banglore')"
            ]
          },
          "metadata": {},
          "execution_count": 19
        }
      ]
    },
    {
      "cell_type": "code",
      "source": [
        "my_dict={\"product\":\"watch\",                      #strng\n",
        "         20.3:\"watch weight\",                    #flot\n",
        "         101:{10,20,30},                     #intg\n",
        "         True:\"active\"}                          #bull\n",
        "my_dict[\"product\"],my_dict[20.3],my_dict[101],my_dict[True]"
      ],
      "metadata": {
        "colab": {
          "base_uri": "https://localhost:8080/"
        },
        "id": "YxYz4N4pjO2c",
        "outputId": "597beaf3-30a4-4f86-ff90-da219abcf4f8"
      },
      "execution_count": null,
      "outputs": [
        {
          "output_type": "execute_result",
          "data": {
            "text/plain": [
              "('watch', 'watch weight', {10, 20, 30}, 'active')"
            ]
          },
          "metadata": {},
          "execution_count": 23
        }
      ]
    },
    {
      "cell_type": "code",
      "source": [
        "my_dict[101]"
      ],
      "metadata": {
        "colab": {
          "base_uri": "https://localhost:8080/"
        },
        "id": "Mk5C1U96jO0f",
        "outputId": "1c611b2b-dfa3-4967-a5d4-d0208a6bda20"
      },
      "execution_count": null,
      "outputs": [
        {
          "output_type": "execute_result",
          "data": {
            "text/plain": [
              "{10, 20, 30}"
            ]
          },
          "metadata": {},
          "execution_count": 26
        }
      ]
    },
    {
      "cell_type": "code",
      "source": [
        "employee={\"id\":2197,\"name\":\"kiran k\",\"department\":\"data engineering\",\"location\":\"banglore\",\"floor\":10}"
      ],
      "metadata": {
        "id": "CVnTrg-zjOxd"
      },
      "execution_count": null,
      "outputs": []
    },
    {
      "cell_type": "code",
      "source": [
        "employee[\"id\"],employee[\"department\"]"
      ],
      "metadata": {
        "colab": {
          "base_uri": "https://localhost:8080/"
        },
        "id": "Dx0fAiw4jOux",
        "outputId": "37d5139a-2839-476c-8daf-7a8fb8ab2298"
      },
      "execution_count": null,
      "outputs": [
        {
          "output_type": "execute_result",
          "data": {
            "text/plain": [
              "(2197, 'data engineering')"
            ]
          },
          "metadata": {},
          "execution_count": 30
        }
      ]
    },
    {
      "cell_type": "code",
      "source": [
        "tempecture={\n",
        "    'lat': 33.44,\n",
        "    'lon': -94.04,\n",
        "    'timezone': 'America/Chicago',\n",
        "    'timezone_offset': -18000,\n",
        "    'current': {\n",
        "        'dt': 1684929490,\n",
        "        'sunrise': 1684926645,\n",
        "        'sunset': 1684977332,\n",
        "        'temp': 292.55,\n",
        "        'feels_like': 292.87,\n",
        "        'pressure': 1014,\n",
        "        'humidity': 89,\n",
        "        'dew_point': 290.69,\n",
        "        'uvi': 0.16,\n",
        "        'clouds': 53,\n",
        "        'visibility': 10000,\n",
        "        'wind_speed': 3.13,\n",
        "        'wind_deg': 93,\n",
        "        'wind_gust': 6.71,\n",
        "        'weather': [\n",
        "            {\n",
        "                'id': 803,\n",
        "                'main': 'Clouds',\n",
        "                'description': 'broken clouds'\n",
        "            }\n",
        "        ]\n",
        "    }\n",
        "}"
      ],
      "metadata": {
        "id": "6CZ8ufnMjOsQ"
      },
      "execution_count": null,
      "outputs": []
    },
    {
      "cell_type": "code",
      "source": [
        "tempecture[\"current\"][\"temp\"],(tempecture[\"current\"][\"sunset\"])"
      ],
      "metadata": {
        "colab": {
          "base_uri": "https://localhost:8080/"
        },
        "id": "sJPI4ZW9jOpi",
        "outputId": "3620514a-fc38-4ab8-c330-a86f3ae13d41"
      },
      "execution_count": null,
      "outputs": [
        {
          "output_type": "execute_result",
          "data": {
            "text/plain": [
              "(292.55, 1684977332)"
            ]
          },
          "metadata": {},
          "execution_count": 45
        }
      ]
    },
    {
      "cell_type": "code",
      "source": [
        "\n",
        "(\"tempecture\"[\"current\"],\"tempecture\"[\"sunset\"])        #int no lenth\n",
        "                                   #only strng hav len"
      ],
      "metadata": {
        "colab": {
          "base_uri": "https://localhost:8080/",
          "height": 308
        },
        "id": "sU8g3y4kjOnF",
        "outputId": "27842fcf-f865-4def-d82d-53cf4a0e7a9c"
      },
      "execution_count": null,
      "outputs": [
        {
          "output_type": "stream",
          "name": "stderr",
          "text": [
            "<>:1: SyntaxWarning: str indices must be integers or slices, not str; perhaps you missed a comma?\n",
            "<>:1: SyntaxWarning: str indices must be integers or slices, not str; perhaps you missed a comma?\n",
            "<>:1: SyntaxWarning: str indices must be integers or slices, not str; perhaps you missed a comma?\n",
            "<>:1: SyntaxWarning: str indices must be integers or slices, not str; perhaps you missed a comma?\n",
            "/tmp/ipython-input-78-1860810367.py:1: SyntaxWarning: str indices must be integers or slices, not str; perhaps you missed a comma?\n",
            "  (\"tempecture\"[\"current\"],\"tempecture\"[\"sunset\"])        #int no lenth\n",
            "/tmp/ipython-input-78-1860810367.py:1: SyntaxWarning: str indices must be integers or slices, not str; perhaps you missed a comma?\n",
            "  (\"tempecture\"[\"current\"],\"tempecture\"[\"sunset\"])        #int no lenth\n"
          ]
        },
        {
          "output_type": "error",
          "ename": "TypeError",
          "evalue": "string indices must be integers, not 'str'",
          "traceback": [
            "\u001b[0;31m---------------------------------------------------------------------------\u001b[0m",
            "\u001b[0;31mTypeError\u001b[0m                                 Traceback (most recent call last)",
            "\u001b[0;32m/tmp/ipython-input-78-1860810367.py\u001b[0m in \u001b[0;36m<cell line: 0>\u001b[0;34m()\u001b[0m\n\u001b[0;32m----> 1\u001b[0;31m \u001b[0;34m(\u001b[0m\u001b[0;34m\"tempecture\"\u001b[0m\u001b[0;34m[\u001b[0m\u001b[0;34m\"current\"\u001b[0m\u001b[0;34m]\u001b[0m\u001b[0;34m,\u001b[0m\u001b[0;34m\"tempecture\"\u001b[0m\u001b[0;34m[\u001b[0m\u001b[0;34m\"sunset\"\u001b[0m\u001b[0;34m]\u001b[0m\u001b[0;34m)\u001b[0m        \u001b[0;31m#int no lenth\u001b[0m\u001b[0;34m\u001b[0m\u001b[0;34m\u001b[0m\u001b[0m\n\u001b[0m\u001b[1;32m      2\u001b[0m                                    \u001b[0;31m#only strng hav len\u001b[0m\u001b[0;34m\u001b[0m\u001b[0;34m\u001b[0m\u001b[0m\n",
            "\u001b[0;31mTypeError\u001b[0m: string indices must be integers, not 'str'"
          ]
        }
      ]
    },
    {
      "cell_type": "code",
      "source": [
        "len(\"America/Chicago\")"
      ],
      "metadata": {
        "colab": {
          "base_uri": "https://localhost:8080/"
        },
        "id": "3pqGK_40jOjl",
        "outputId": "8375eb24-0114-47da-8d55-ea2f106b060d"
      },
      "execution_count": null,
      "outputs": [
        {
          "output_type": "execute_result",
          "data": {
            "text/plain": [
              "15"
            ]
          },
          "metadata": {},
          "execution_count": 48
        }
      ]
    },
    {
      "cell_type": "code",
      "source": [
        "d={\"name\":\"kiran pujarri\",\n",
        "\"age\":23,\n",
        "\"location\":\"banglore\"}\n",
        "my_dict[\"name\"],my_dict[\"age\"],my_dict[\"location\"]\n"
      ],
      "metadata": {
        "id": "YCrCpISlBwr-",
        "colab": {
          "base_uri": "https://localhost:8080/"
        },
        "outputId": "f4524ac4-fc4f-4d5b-ad9e-95929684b572"
      },
      "execution_count": null,
      "outputs": [
        {
          "output_type": "execute_result",
          "data": {
            "text/plain": [
              "('kiran pujarri', 23, 'banglore')"
            ]
          },
          "metadata": {},
          "execution_count": 8
        }
      ]
    },
    {
      "cell_type": "code",
      "source": [
        "d.keys()"
      ],
      "metadata": {
        "id": "LuwZVFgKCFR4",
        "colab": {
          "base_uri": "https://localhost:8080/"
        },
        "outputId": "06561084-7781-4b9c-f24e-a538e8940e4d"
      },
      "execution_count": null,
      "outputs": [
        {
          "output_type": "execute_result",
          "data": {
            "text/plain": [
              "dict_keys(['name', 'age', 'location'])"
            ]
          },
          "metadata": {},
          "execution_count": 4
        }
      ]
    },
    {
      "cell_type": "code",
      "source": [
        "d.items()"
      ],
      "metadata": {
        "id": "C0Xg6l2UCFPT",
        "colab": {
          "base_uri": "https://localhost:8080/"
        },
        "outputId": "b11669c2-e645-4ea1-e57e-882de39118dc"
      },
      "execution_count": null,
      "outputs": [
        {
          "output_type": "execute_result",
          "data": {
            "text/plain": [
              "dict_items([('name', 'kiran pujarri'), ('age', 23), ('location', 'banglore')])"
            ]
          },
          "metadata": {},
          "execution_count": 5
        }
      ]
    },
    {
      "cell_type": "code",
      "source": [
        "d.get(\"name\")"
      ],
      "metadata": {
        "id": "1RVu26NECFM4",
        "colab": {
          "base_uri": "https://localhost:8080/",
          "height": 35
        },
        "outputId": "139296db-3ba5-462c-8b9c-60aabfd9b461"
      },
      "execution_count": null,
      "outputs": [
        {
          "output_type": "execute_result",
          "data": {
            "text/plain": [
              "'kiran pujarri'"
            ],
            "application/vnd.google.colaboratory.intrinsic+json": {
              "type": "string"
            }
          },
          "metadata": {},
          "execution_count": 14
        }
      ]
    },
    {
      "cell_type": "code",
      "source": [
        "d.pop(\"age\")"
      ],
      "metadata": {
        "id": "_FRv0BdvCFKP",
        "colab": {
          "base_uri": "https://localhost:8080/"
        },
        "outputId": "d0a571ad-7955-45d6-d8cf-fe1f77e2fb3d"
      },
      "execution_count": null,
      "outputs": [
        {
          "output_type": "execute_result",
          "data": {
            "text/plain": [
              "23"
            ]
          },
          "metadata": {},
          "execution_count": 25
        }
      ]
    },
    {
      "cell_type": "code",
      "source": [
        "k=[1,2,3,4,56]\n",
        "k.pop(2)\n",
        "k"
      ],
      "metadata": {
        "id": "nfse_yEzCFIA",
        "colab": {
          "base_uri": "https://localhost:8080/"
        },
        "outputId": "ef9efb50-d471-4ed0-f19e-b9887b06b320"
      },
      "execution_count": null,
      "outputs": [
        {
          "output_type": "execute_result",
          "data": {
            "text/plain": [
              "[1, 2, 4, 56]"
            ]
          },
          "metadata": {},
          "execution_count": 41
        }
      ]
    },
    {
      "cell_type": "code",
      "source": [
        "k=(1,2,3,45,6,)\n",
        "k.index(2)\n",
        "k"
      ],
      "metadata": {
        "colab": {
          "base_uri": "https://localhost:8080/"
        },
        "id": "a3U-SDvXQ62L",
        "outputId": "bbe30c2b-a22d-4449-a431-59bc8d41775a"
      },
      "execution_count": null,
      "outputs": [
        {
          "output_type": "execute_result",
          "data": {
            "text/plain": [
              "(1, 2, 3, 45, 6)"
            ]
          },
          "metadata": {},
          "execution_count": 39
        }
      ]
    },
    {
      "cell_type": "code",
      "source": [
        "k.index(2)\n",
        "k"
      ],
      "metadata": {
        "id": "E2kFynPZCFFV",
        "colab": {
          "base_uri": "https://localhost:8080/"
        },
        "outputId": "525084da-b6d3-4d95-becf-40302d4991e6"
      },
      "execution_count": null,
      "outputs": [
        {
          "output_type": "execute_result",
          "data": {
            "text/plain": [
              "(1, 2, 3, 45, 6)"
            ]
          },
          "metadata": {},
          "execution_count": 37
        }
      ]
    },
    {
      "cell_type": "code",
      "source": [
        "d.popitem()"
      ],
      "metadata": {
        "colab": {
          "base_uri": "https://localhost:8080/",
          "height": 145
        },
        "id": "6veyHKWiPwiz",
        "outputId": "c73009d6-090e-4896-cca9-40395cfdfabe"
      },
      "execution_count": null,
      "outputs": [
        {
          "output_type": "error",
          "ename": "NameError",
          "evalue": "name 'd' is not defined",
          "traceback": [
            "\u001b[0;31m---------------------------------------------------------------------------\u001b[0m",
            "\u001b[0;31mNameError\u001b[0m                                 Traceback (most recent call last)",
            "\u001b[0;32m/tmp/ipython-input-44-3489706405.py\u001b[0m in \u001b[0;36m<cell line: 0>\u001b[0;34m()\u001b[0m\n\u001b[0;32m----> 1\u001b[0;31m \u001b[0md\u001b[0m\u001b[0;34m.\u001b[0m\u001b[0mpopitem\u001b[0m\u001b[0;34m(\u001b[0m\u001b[0;34m)\u001b[0m\u001b[0;34m\u001b[0m\u001b[0;34m\u001b[0m\u001b[0m\n\u001b[0m",
            "\u001b[0;31mNameError\u001b[0m: name 'd' is not defined"
          ]
        }
      ]
    },
    {
      "cell_type": "code",
      "source": [
        "d={\"name\":\"kiran pujarri\",\n",
        "\"age\":23,\n",
        "\"location\":\"banglore\"}\n",
        "my_dict[\"name\"],my_dict[\"age\"],my_dict[\"location\"]\n",
        "\n"
      ],
      "metadata": {
        "colab": {
          "base_uri": "https://localhost:8080/"
        },
        "id": "kk5vAONsSlZz",
        "outputId": "bbb80e3c-2b9e-4751-e1c5-4e4e2a76d346"
      },
      "execution_count": null,
      "outputs": [
        {
          "output_type": "execute_result",
          "data": {
            "text/plain": [
              "('kiran pujarri', 23, 'banglore')"
            ]
          },
          "metadata": {},
          "execution_count": 57
        }
      ]
    },
    {
      "cell_type": "code",
      "source": [
        "d.popitem()\n"
      ],
      "metadata": {
        "colab": {
          "base_uri": "https://localhost:8080/"
        },
        "id": "9L4nn1ovRqb8",
        "outputId": "05851abc-654d-4881-a0b8-d2c4bc2c9497"
      },
      "execution_count": null,
      "outputs": [
        {
          "output_type": "execute_result",
          "data": {
            "text/plain": [
              "('name', 'kiran pujarri')"
            ]
          },
          "metadata": {},
          "execution_count": 51
        }
      ]
    },
    {
      "cell_type": "code",
      "source": [
        "d"
      ],
      "metadata": {
        "colab": {
          "base_uri": "https://localhost:8080/"
        },
        "id": "BT5gvJQQT3pV",
        "outputId": "7b75830c-1928-4fd2-85a9-17c328ed80c6"
      },
      "execution_count": null,
      "outputs": [
        {
          "output_type": "execute_result",
          "data": {
            "text/plain": [
              "{'name': 'kiran pujarri', 'age': 23, 'location': 'banglore'}"
            ]
          },
          "metadata": {},
          "execution_count": 58
        }
      ]
    },
    {
      "cell_type": "code",
      "source": [
        "d.popitem()"
      ],
      "metadata": {
        "colab": {
          "base_uri": "https://localhost:8080/"
        },
        "id": "z80qfDKBRqVZ",
        "outputId": "baaff11f-1110-4832-9342-6cd4c4c00814"
      },
      "execution_count": null,
      "outputs": [
        {
          "output_type": "execute_result",
          "data": {
            "text/plain": [
              "('location', 'banglore')"
            ]
          },
          "metadata": {},
          "execution_count": 59
        }
      ]
    },
    {
      "cell_type": "code",
      "source": [
        "isinstance(d[\"age\"],int)    #ininstance use foe check the output data type like int or strng"
      ],
      "metadata": {
        "colab": {
          "base_uri": "https://localhost:8080/"
        },
        "id": "8i00RbchRqSH",
        "outputId": "765d430d-d6e4-4d92-d3c6-d537f65831f8"
      },
      "execution_count": null,
      "outputs": [
        {
          "output_type": "execute_result",
          "data": {
            "text/plain": [
              "True"
            ]
          },
          "metadata": {},
          "execution_count": 64
        }
      ]
    },
    {
      "cell_type": "code",
      "source": [
        "x={1,2,3,4,5}           #{}for set,oder\n",
        "                        #[]for int[20]\n",
        "y=[1,2,3,4,6]            #()for tuppel(strng)"
      ],
      "metadata": {
        "id": "D79KaGkXRqPL"
      },
      "execution_count": null,
      "outputs": []
    },
    {
      "cell_type": "code",
      "source": [
        "x[1]=222\n",
        "x"
      ],
      "metadata": {
        "colab": {
          "base_uri": "https://localhost:8080/"
        },
        "id": "yYQXooW8RqMS",
        "outputId": "a190f9c8-a508-4864-e3b0-042297fb3be3"
      },
      "execution_count": null,
      "outputs": [
        {
          "output_type": "execute_result",
          "data": {
            "text/plain": [
              "[1, 222, 3, 4, 5]"
            ]
          },
          "metadata": {},
          "execution_count": 68
        }
      ]
    },
    {
      "cell_type": "code",
      "source": [
        "x.add(50)\n",
        "x"
      ],
      "metadata": {
        "colab": {
          "base_uri": "https://localhost:8080/"
        },
        "id": "juY_z8Tvcl2s",
        "outputId": "77325dd1-65fe-43a7-d1c5-cb4f67f47d88"
      },
      "execution_count": null,
      "outputs": [
        {
          "output_type": "execute_result",
          "data": {
            "text/plain": [
              "{1, 2, 3, 4, 5, 50}"
            ]
          },
          "metadata": {},
          "execution_count": 13
        }
      ]
    },
    {
      "cell_type": "code",
      "source": [
        "y[2]=333\n",
        "y"
      ],
      "metadata": {
        "colab": {
          "base_uri": "https://localhost:8080/"
        },
        "id": "CyRhCpbZRqJh",
        "outputId": "ff460f5c-9b1c-486a-c7e9-23a145618dfa"
      },
      "execution_count": null,
      "outputs": [
        {
          "output_type": "execute_result",
          "data": {
            "text/plain": [
              "[1, 2, 333, 4, 6]"
            ]
          },
          "metadata": {},
          "execution_count": 71
        }
      ]
    },
    {
      "cell_type": "code",
      "source": [
        "y=[1,2,2,2,3,4,5,6]\n",
        "y.count(2)"
      ],
      "metadata": {
        "id": "dtoXG5V1X9zA",
        "colab": {
          "base_uri": "https://localhost:8080/"
        },
        "outputId": "597711ac-f036-4a75-a739-3f2672371329"
      },
      "execution_count": null,
      "outputs": [
        {
          "output_type": "execute_result",
          "data": {
            "text/plain": [
              "3"
            ]
          },
          "metadata": {},
          "execution_count": 2
        }
      ]
    },
    {
      "cell_type": "code",
      "source": [
        "y=[1,2,2,2,3,4,5,6]\n",
        "y.index(3)"
      ],
      "metadata": {
        "colab": {
          "base_uri": "https://localhost:8080/"
        },
        "id": "HnsKLXj_aF_X",
        "outputId": "fb29cd76-198a-4d06-eced-3da303d0fc7a"
      },
      "execution_count": null,
      "outputs": [
        {
          "output_type": "execute_result",
          "data": {
            "text/plain": [
              "4"
            ]
          },
          "metadata": {},
          "execution_count": 3
        }
      ]
    },
    {
      "cell_type": "code",
      "source": [
        "y=frozenset([1,50,33,2,3,4,5,6])\n",
        "y\n"
      ],
      "metadata": {
        "colab": {
          "base_uri": "https://localhost:8080/"
        },
        "id": "fbN4MuIaal2T",
        "outputId": "4daae847-c776-4dc1-e990-7d7b3e9300c8"
      },
      "execution_count": null,
      "outputs": [
        {
          "output_type": "execute_result",
          "data": {
            "text/plain": [
              "frozenset({1, 2, 3, 4, 5, 6, 33, 50})"
            ]
          },
          "metadata": {},
          "execution_count": 5
        }
      ]
    },
    {
      "cell_type": "code",
      "source": [
        "#int,complex,strng,dict,flot,set,tuppel,frozenset all kind of data types\n",
        "#copy,deeepcopy,shallowcopy,"
      ],
      "metadata": {
        "id": "EXy7g5jfb68u"
      },
      "execution_count": null,
      "outputs": []
    }
  ]
}