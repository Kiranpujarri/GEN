{
  "nbformat": 4,
  "nbformat_minor": 0,
  "metadata": {
    "colab": {
      "provenance": []
    },
    "kernelspec": {
      "name": "python3",
      "display_name": "Python 3"
    },
    "language_info": {
      "name": "python"
    }
  },
  "cells": [
    {
      "cell_type": "code",
      "execution_count": 8,
      "metadata": {
        "id": "vk_DZQ-uK-Br"
      },
      "outputs": [],
      "source": [
        "import numpy as np"
      ]
    },
    {
      "cell_type": "code",
      "source": [
        "list(),str(),tuple(),set(),dict()"
      ],
      "metadata": {
        "colab": {
          "base_uri": "https://localhost:8080/"
        },
        "id": "nXUDh8U1LNBp",
        "outputId": "7c3ca521-fe7e-4c30-dd89-f65f6863e203"
      },
      "execution_count": 9,
      "outputs": [
        {
          "output_type": "execute_result",
          "data": {
            "text/plain": [
              "([], '', (), set(), {})"
            ]
          },
          "metadata": {},
          "execution_count": 9
        }
      ]
    },
    {
      "cell_type": "code",
      "source": [
        "y=np.array([1,2,3,])"
      ],
      "metadata": {
        "id": "o_DgciEvLM_4"
      },
      "execution_count": 18,
      "outputs": []
    },
    {
      "cell_type": "code",
      "source": [
        "x=[1,2,3]"
      ],
      "metadata": {
        "id": "7rijoPTtLM99"
      },
      "execution_count": 22,
      "outputs": []
    },
    {
      "cell_type": "code",
      "source": [
        "type(x),type(y)"
      ],
      "metadata": {
        "colab": {
          "base_uri": "https://localhost:8080/"
        },
        "id": "xA8u9ALpLM7o",
        "outputId": "1a00e4ed-aaed-46a4-8f53-bdf678eb2daa"
      },
      "execution_count": 23,
      "outputs": [
        {
          "output_type": "execute_result",
          "data": {
            "text/plain": [
              "(list, numpy.ndarray)"
            ]
          },
          "metadata": {},
          "execution_count": 23
        }
      ]
    },
    {
      "cell_type": "code",
      "source": [
        "y/2"
      ],
      "metadata": {
        "colab": {
          "base_uri": "https://localhost:8080/"
        },
        "id": "gJlKUIEGLM5N",
        "outputId": "c4a93c63-2620-4b3f-b7a3-b445e76766f3"
      },
      "execution_count": 24,
      "outputs": [
        {
          "output_type": "execute_result",
          "data": {
            "text/plain": [
              "array([0.5, 1. , 1.5])"
            ]
          },
          "metadata": {},
          "execution_count": 24
        }
      ]
    },
    {
      "cell_type": "code",
      "source": [
        "x=[1,2,3,\"data science\"]\n",
        "x"
      ],
      "metadata": {
        "colab": {
          "base_uri": "https://localhost:8080/"
        },
        "id": "qJLi-epkLM22",
        "outputId": "134f1c09-08e2-4ca3-88c6-2b47c207e140"
      },
      "execution_count": 25,
      "outputs": [
        {
          "output_type": "execute_result",
          "data": {
            "text/plain": [
              "[1, 2, 3, 'data science']"
            ]
          },
          "metadata": {},
          "execution_count": 25
        }
      ]
    },
    {
      "cell_type": "code",
      "source": [
        "type(x[0]),type(x[1]),type(x[2]),type(x[3])"
      ],
      "metadata": {
        "colab": {
          "base_uri": "https://localhost:8080/"
        },
        "id": "2TZfK8Y5LM0u",
        "outputId": "24c39f87-7b66-4812-cae9-14ba23db42d9"
      },
      "execution_count": 26,
      "outputs": [
        {
          "output_type": "execute_result",
          "data": {
            "text/plain": [
              "(int, int, int, str)"
            ]
          },
          "metadata": {},
          "execution_count": 26
        }
      ]
    },
    {
      "cell_type": "code",
      "source": [
        "y=np.array([1,2,3,\"data science\"])\n",
        "y"
      ],
      "metadata": {
        "colab": {
          "base_uri": "https://localhost:8080/"
        },
        "id": "v0uxdvEmLMyO",
        "outputId": "d5729691-1312-4f38-8be8-91697110b9d5"
      },
      "execution_count": 27,
      "outputs": [
        {
          "output_type": "execute_result",
          "data": {
            "text/plain": [
              "array(['1', '2', '3', 'data science'], dtype='<U21')"
            ]
          },
          "metadata": {},
          "execution_count": 27
        }
      ]
    },
    {
      "cell_type": "code",
      "source": [
        "type(y[0]),type(y[1]),type(y[2]),type(y[3])"
      ],
      "metadata": {
        "colab": {
          "base_uri": "https://localhost:8080/"
        },
        "id": "4w_Fu31ELMv6",
        "outputId": "fa07a598-4f35-4efe-b6cc-abbb28bd54f9"
      },
      "execution_count": 28,
      "outputs": [
        {
          "output_type": "execute_result",
          "data": {
            "text/plain": [
              "(numpy.str_, numpy.str_, numpy.str_, numpy.str_)"
            ]
          },
          "metadata": {},
          "execution_count": 28
        }
      ]
    },
    {
      "cell_type": "code",
      "source": [
        "y"
      ],
      "metadata": {
        "colab": {
          "base_uri": "https://localhost:8080/"
        },
        "id": "qMjXYTkXLMtR",
        "outputId": "7c6a050e-3802-4d1e-fc63-418e79c43f98"
      },
      "execution_count": 29,
      "outputs": [
        {
          "output_type": "execute_result",
          "data": {
            "text/plain": [
              "array(['1', '2', '3', 'data science'], dtype='<U21')"
            ]
          },
          "metadata": {},
          "execution_count": 29
        }
      ]
    },
    {
      "cell_type": "code",
      "source": [
        "for i in range(1,10):\n",
        "    print(np.random.randint(0,10))     # random no every time changes"
      ],
      "metadata": {
        "id": "vssFTQCvQgVJ",
        "colab": {
          "base_uri": "https://localhost:8080/"
        },
        "outputId": "6370c53d-1c79-499a-dd04-e319140651ce"
      },
      "execution_count": 30,
      "outputs": [
        {
          "output_type": "stream",
          "name": "stdout",
          "text": [
            "5\n",
            "2\n",
            "9\n",
            "5\n",
            "3\n",
            "1\n",
            "5\n",
            "8\n",
            "6\n"
          ]
        }
      ]
    },
    {
      "cell_type": "code",
      "source": [
        "np.random.randint(0, 10,(5,5))"
      ],
      "metadata": {
        "colab": {
          "base_uri": "https://localhost:8080/"
        },
        "id": "AWlNRhivK7kw",
        "outputId": "9f0bec12-68cf-4c20-8c66-98578c21487e"
      },
      "execution_count": 42,
      "outputs": [
        {
          "output_type": "execute_result",
          "data": {
            "text/plain": [
              "array([[1, 7, 1, 9, 9],\n",
              "       [7, 7, 2, 6, 5],\n",
              "       [1, 6, 1, 6, 6],\n",
              "       [2, 1, 7, 6, 5],\n",
              "       [4, 4, 0, 1, 8]])"
            ]
          },
          "metadata": {},
          "execution_count": 42
        }
      ]
    },
    {
      "cell_type": "code",
      "source": [
        "import numpy as np\n",
        "data = np.arange(25).reshape(5, 5)\n",
        "print(data)\n"
      ],
      "metadata": {
        "colab": {
          "base_uri": "https://localhost:8080/"
        },
        "id": "dVm7b1xdNPns",
        "outputId": "ff633250-d11d-456c-82da-ef37414ff371"
      },
      "execution_count": 39,
      "outputs": [
        {
          "output_type": "stream",
          "name": "stdout",
          "text": [
            "[[ 0  1  2  3  4]\n",
            " [ 5  6  7  8  9]\n",
            " [10 11 12 13 14]\n",
            " [15 16 17 18 19]\n",
            " [20 21 22 23 24]]\n"
          ]
        }
      ]
    },
    {
      "cell_type": "code",
      "source": [
        "np.random.randint(10, 100,(5,5))\n"
      ],
      "metadata": {
        "colab": {
          "base_uri": "https://localhost:8080/"
        },
        "id": "GOvY061pE9CI",
        "outputId": "eb12b3ea-83aa-4902-e64f-f461e32d6d88"
      },
      "execution_count": 36,
      "outputs": [
        {
          "output_type": "execute_result",
          "data": {
            "text/plain": [
              "array([[60, 52, 42, 42, 36],\n",
              "       [83, 64, 51, 40, 66],\n",
              "       [36, 84, 52, 82, 75],\n",
              "       [13, 75, 24, 52, 18],\n",
              "       [35, 65, 72, 10, 40]])"
            ]
          },
          "metadata": {},
          "execution_count": 36
        }
      ]
    },
    {
      "cell_type": "code",
      "source": [
        "data[-5:-4,-5:-4]"
      ],
      "metadata": {
        "colab": {
          "base_uri": "https://localhost:8080/"
        },
        "id": "GZSTS-C0NCRJ",
        "outputId": "300a6419-c7d9-4e92-f7d1-b84ef8ee1469"
      },
      "execution_count": 37,
      "outputs": [
        {
          "output_type": "execute_result",
          "data": {
            "text/plain": [
              "array([[0]])"
            ]
          },
          "metadata": {},
          "execution_count": 37
        }
      ]
    },
    {
      "cell_type": "code",
      "source": [
        "data[0:3,4:5]"
      ],
      "metadata": {
        "colab": {
          "base_uri": "https://localhost:8080/"
        },
        "id": "CjqRSumoE85P",
        "outputId": "55b668e5-e143-404c-eb6a-4ad5015c946d"
      },
      "execution_count": 40,
      "outputs": [
        {
          "output_type": "execute_result",
          "data": {
            "text/plain": [
              "array([[ 4],\n",
              "       [ 9],\n",
              "       [14]])"
            ]
          },
          "metadata": {},
          "execution_count": 40
        }
      ]
    },
    {
      "cell_type": "code",
      "source": [
        "data[0:4,2:-3]"
      ],
      "metadata": {
        "colab": {
          "base_uri": "https://localhost:8080/"
        },
        "id": "mDkbkfOLE82k",
        "outputId": "c6c26f0f-d371-4711-85b3-56a59a660442"
      },
      "execution_count": 45,
      "outputs": [
        {
          "output_type": "execute_result",
          "data": {
            "text/plain": [
              "array([], shape=(4, 0), dtype=int64)"
            ]
          },
          "metadata": {},
          "execution_count": 45
        }
      ]
    },
    {
      "cell_type": "code",
      "source": [
        "data.size"
      ],
      "metadata": {
        "colab": {
          "base_uri": "https://localhost:8080/"
        },
        "id": "8-TpGOeBE80A",
        "outputId": "2f769eb9-2e0f-433c-a43c-3476054bbf32"
      },
      "execution_count": 46,
      "outputs": [
        {
          "output_type": "execute_result",
          "data": {
            "text/plain": [
              "25"
            ]
          },
          "metadata": {},
          "execution_count": 46
        }
      ]
    },
    {
      "cell_type": "code",
      "source": [
        "data.T"
      ],
      "metadata": {
        "colab": {
          "base_uri": "https://localhost:8080/"
        },
        "id": "VEuj6JsdE8xW",
        "outputId": "068176a9-4b50-4c68-fbaf-2511b4297be3"
      },
      "execution_count": 49,
      "outputs": [
        {
          "output_type": "execute_result",
          "data": {
            "text/plain": [
              "array([[ 0,  5, 10, 15, 20],\n",
              "       [ 1,  6, 11, 16, 21],\n",
              "       [ 2,  7, 12, 17, 22],\n",
              "       [ 3,  8, 13, 18, 23],\n",
              "       [ 4,  9, 14, 19, 24]])"
            ]
          },
          "metadata": {},
          "execution_count": 49
        }
      ]
    },
    {
      "cell_type": "code",
      "source": [
        "x=2"
      ],
      "metadata": {
        "id": "OuN0NLrOOXt4"
      },
      "execution_count": 50,
      "outputs": []
    },
    {
      "cell_type": "code",
      "source": [
        "data**2"
      ],
      "metadata": {
        "colab": {
          "base_uri": "https://localhost:8080/"
        },
        "id": "8g5S-ywpOkIg",
        "outputId": "2de722b5-8477-46e8-d6e6-246504765fdb"
      },
      "execution_count": 51,
      "outputs": [
        {
          "output_type": "execute_result",
          "data": {
            "text/plain": [
              "array([[  0,   1,   4,   9,  16],\n",
              "       [ 25,  36,  49,  64,  81],\n",
              "       [100, 121, 144, 169, 196],\n",
              "       [225, 256, 289, 324, 361],\n",
              "       [400, 441, 484, 529, 576]])"
            ]
          },
          "metadata": {},
          "execution_count": 51
        }
      ]
    },
    {
      "cell_type": "code",
      "source": [
        "x=np.random.randint(10,100,(5,5))\n",
        "y=np.random.randint(10,100,(5,5))"
      ],
      "metadata": {
        "id": "AXiT3Ru3OkGS"
      },
      "execution_count": 52,
      "outputs": []
    },
    {
      "cell_type": "code",
      "source": [
        "x"
      ],
      "metadata": {
        "colab": {
          "base_uri": "https://localhost:8080/"
        },
        "id": "kg7azsQFOkDi",
        "outputId": "07cbf8c8-32d6-4155-d034-570e3c7b4d67"
      },
      "execution_count": 53,
      "outputs": [
        {
          "output_type": "execute_result",
          "data": {
            "text/plain": [
              "array([[35, 27, 21, 68, 56],\n",
              "       [26, 68, 91, 33, 43],\n",
              "       [62, 62, 25, 13, 44],\n",
              "       [66, 17, 69, 94, 52],\n",
              "       [50, 23, 24, 74, 29]])"
            ]
          },
          "metadata": {},
          "execution_count": 53
        }
      ]
    },
    {
      "cell_type": "code",
      "source": [
        "y"
      ],
      "metadata": {
        "colab": {
          "base_uri": "https://localhost:8080/"
        },
        "id": "FV65AGZfOkBD",
        "outputId": "a4c2e934-9b7b-49d2-f8ca-e08b4518d6e5"
      },
      "execution_count": 54,
      "outputs": [
        {
          "output_type": "execute_result",
          "data": {
            "text/plain": [
              "array([[49, 31, 45, 45, 74],\n",
              "       [25, 65, 56, 11, 23],\n",
              "       [18, 35, 61, 25, 19],\n",
              "       [40, 50, 60, 91, 86],\n",
              "       [51, 77, 48, 97, 54]])"
            ]
          },
          "metadata": {},
          "execution_count": 54
        }
      ]
    },
    {
      "cell_type": "code",
      "source": [
        "np.add(x,2)"
      ],
      "metadata": {
        "colab": {
          "base_uri": "https://localhost:8080/"
        },
        "id": "Ja6oYAT7Oj-x",
        "outputId": "95ec4c3e-5139-40b0-a4ab-b3e49618662e"
      },
      "execution_count": 55,
      "outputs": [
        {
          "output_type": "execute_result",
          "data": {
            "text/plain": [
              "array([[37, 29, 23, 70, 58],\n",
              "       [28, 70, 93, 35, 45],\n",
              "       [64, 64, 27, 15, 46],\n",
              "       [68, 19, 71, 96, 54],\n",
              "       [52, 25, 26, 76, 31]])"
            ]
          },
          "metadata": {},
          "execution_count": 55
        }
      ]
    },
    {
      "cell_type": "code",
      "source": [
        "np.floor_divide(x,2)"
      ],
      "metadata": {
        "colab": {
          "base_uri": "https://localhost:8080/"
        },
        "id": "hu1bY3bZOj6i",
        "outputId": "7def4780-6678-410e-f445-eadf0b952df8"
      },
      "execution_count": 56,
      "outputs": [
        {
          "output_type": "execute_result",
          "data": {
            "text/plain": [
              "array([[17, 13, 10, 34, 28],\n",
              "       [13, 34, 45, 16, 21],\n",
              "       [31, 31, 12,  6, 22],\n",
              "       [33,  8, 34, 47, 26],\n",
              "       [25, 11, 12, 37, 14]])"
            ]
          },
          "metadata": {},
          "execution_count": 56
        }
      ]
    },
    {
      "cell_type": "code",
      "source": [
        "np.pow(x,2)"
      ],
      "metadata": {
        "colab": {
          "base_uri": "https://localhost:8080/"
        },
        "id": "OLbuoHcsPFnk",
        "outputId": "bb7805af-08a4-4031-fc16-50e55a125946"
      },
      "execution_count": 57,
      "outputs": [
        {
          "output_type": "execute_result",
          "data": {
            "text/plain": [
              "array([[1225,  729,  441, 4624, 3136],\n",
              "       [ 676, 4624, 8281, 1089, 1849],\n",
              "       [3844, 3844,  625,  169, 1936],\n",
              "       [4356,  289, 4761, 8836, 2704],\n",
              "       [2500,  529,  576, 5476,  841]])"
            ]
          },
          "metadata": {},
          "execution_count": 57
        }
      ]
    },
    {
      "cell_type": "code",
      "source": [
        "np.random.randint(0,10,(10,10))"
      ],
      "metadata": {
        "colab": {
          "base_uri": "https://localhost:8080/"
        },
        "id": "gvu6b9zEPFk0",
        "outputId": "fc0de8cc-e96b-4ca8-cefc-683f21b0e37d"
      },
      "execution_count": 58,
      "outputs": [
        {
          "output_type": "execute_result",
          "data": {
            "text/plain": [
              "array([[6, 0, 8, 8, 0, 8, 8, 8, 4, 3],\n",
              "       [3, 3, 8, 1, 3, 1, 2, 0, 9, 9],\n",
              "       [4, 9, 1, 6, 3, 4, 3, 9, 1, 7],\n",
              "       [9, 2, 5, 9, 0, 6, 0, 0, 3, 5],\n",
              "       [4, 4, 5, 4, 4, 0, 3, 3, 1, 9],\n",
              "       [6, 7, 0, 3, 3, 1, 2, 2, 6, 9],\n",
              "       [6, 4, 2, 0, 9, 8, 2, 8, 5, 0],\n",
              "       [4, 8, 8, 8, 8, 9, 2, 5, 1, 9],\n",
              "       [0, 6, 5, 4, 6, 0, 6, 4, 0, 0],\n",
              "       [3, 7, 6, 1, 4, 1, 5, 4, 4, 9]])"
            ]
          },
          "metadata": {},
          "execution_count": 58
        }
      ]
    },
    {
      "cell_type": "code",
      "source": [
        "np.random.rand(10,10)"
      ],
      "metadata": {
        "colab": {
          "base_uri": "https://localhost:8080/"
        },
        "id": "zvEcfmthPFih",
        "outputId": "41d5cc06-0f2f-4397-b9d1-42bf63da932d"
      },
      "execution_count": 60,
      "outputs": [
        {
          "output_type": "execute_result",
          "data": {
            "text/plain": [
              "array([[0.4409882 , 0.13636416, 0.96745425, 0.39229661, 0.96839944,\n",
              "        0.34414827, 0.75025215, 0.98863973, 0.62414392, 0.71636561],\n",
              "       [0.83261761, 0.80253542, 0.76927492, 0.41449093, 0.42316819,\n",
              "        0.69312098, 0.26954621, 0.91456584, 0.03346795, 0.12830088],\n",
              "       [0.09307116, 0.9150149 , 0.51658488, 0.100059  , 0.28624264,\n",
              "        0.10024406, 0.95999146, 0.63529883, 0.97959729, 0.17035859],\n",
              "       [0.57360851, 0.200644  , 0.60932139, 0.21406943, 0.60367425,\n",
              "        0.27057487, 0.81083539, 0.74775532, 0.84003967, 0.05186517],\n",
              "       [0.28098479, 0.21867848, 0.99172242, 0.96324069, 0.81155905,\n",
              "        0.43804125, 0.96945537, 0.55208618, 0.98135926, 0.14527624],\n",
              "       [0.86384646, 0.76597246, 0.77229276, 0.31741166, 0.055875  ,\n",
              "        0.56192691, 0.91063778, 0.16876168, 0.72799161, 0.18726622],\n",
              "       [0.27725858, 0.87666799, 0.03209821, 0.01484168, 0.54765554,\n",
              "        0.86970105, 0.81239287, 0.0954765 , 0.40720057, 0.93784219],\n",
              "       [0.8201123 , 0.76592   , 0.39468126, 0.3009708 , 0.81589336,\n",
              "        0.60053335, 0.91502238, 0.35662263, 0.37597209, 0.90161871],\n",
              "       [0.79272967, 0.0281392 , 0.89980015, 0.4076682 , 0.54313353,\n",
              "        0.69361065, 0.08529498, 0.89262324, 0.63754798, 0.53862362],\n",
              "       [0.1505203 , 0.51994233, 0.19413125, 0.31445007, 0.0391232 ,\n",
              "        0.68754189, 0.43489123, 0.6183309 , 0.94388418, 0.88685798]])"
            ]
          },
          "metadata": {},
          "execution_count": 60
        }
      ]
    },
    {
      "cell_type": "code",
      "source": [
        "np.random.randn(130,130).mean()"
      ],
      "metadata": {
        "colab": {
          "base_uri": "https://localhost:8080/"
        },
        "id": "npaYo4XePFf1",
        "outputId": "1f58cc0d-6d18-47ab-c14c-74753d9efad8"
      },
      "execution_count": 62,
      "outputs": [
        {
          "output_type": "execute_result",
          "data": {
            "text/plain": [
              "np.float64(0.003796315373096853)"
            ]
          },
          "metadata": {},
          "execution_count": 62
        }
      ]
    },
    {
      "cell_type": "code",
      "source": [
        "np.float64(0.0055653378468262)"
      ],
      "metadata": {
        "colab": {
          "base_uri": "https://localhost:8080/"
        },
        "id": "8zLSx0UqPFda",
        "outputId": "4d5b0cbd-fb71-4972-c783-a3c057ec3f97"
      },
      "execution_count": 63,
      "outputs": [
        {
          "output_type": "execute_result",
          "data": {
            "text/plain": [
              "np.float64(0.0055653378468262)"
            ]
          },
          "metadata": {},
          "execution_count": 63
        }
      ]
    },
    {
      "cell_type": "code",
      "source": [
        "np.zeros((5,5))"
      ],
      "metadata": {
        "colab": {
          "base_uri": "https://localhost:8080/"
        },
        "id": "XKjUj3gLQN38",
        "outputId": "db538c0c-9a08-4a91-9b98-7aeb8342fc93"
      },
      "execution_count": 65,
      "outputs": [
        {
          "output_type": "execute_result",
          "data": {
            "text/plain": [
              "array([[0., 0., 0., 0., 0.],\n",
              "       [0., 0., 0., 0., 0.],\n",
              "       [0., 0., 0., 0., 0.],\n",
              "       [0., 0., 0., 0., 0.],\n",
              "       [0., 0., 0., 0., 0.]])"
            ]
          },
          "metadata": {},
          "execution_count": 65
        }
      ]
    },
    {
      "cell_type": "code",
      "source": [
        "np.ones((5,5))"
      ],
      "metadata": {
        "colab": {
          "base_uri": "https://localhost:8080/"
        },
        "id": "1AOaOxRjQaRN",
        "outputId": "b33c40c2-fd2e-40eb-e3d3-6815d543cfa3"
      },
      "execution_count": 69,
      "outputs": [
        {
          "output_type": "execute_result",
          "data": {
            "text/plain": [
              "array([[1., 1., 1., 1., 1.],\n",
              "       [1., 1., 1., 1., 1.],\n",
              "       [1., 1., 1., 1., 1.],\n",
              "       [1., 1., 1., 1., 1.],\n",
              "       [1., 1., 1., 1., 1.]])"
            ]
          },
          "metadata": {},
          "execution_count": 69
        }
      ]
    },
    {
      "cell_type": "code",
      "source": [
        "data"
      ],
      "metadata": {
        "colab": {
          "base_uri": "https://localhost:8080/"
        },
        "id": "0zlega6GQkXn",
        "outputId": "495d5607-784b-4c09-ab28-44fbcaf1689e"
      },
      "execution_count": 70,
      "outputs": [
        {
          "output_type": "execute_result",
          "data": {
            "text/plain": [
              "array([[ 0,  1,  2,  3,  4],\n",
              "       [ 5,  6,  7,  8,  9],\n",
              "       [10, 11, 12, 13, 14],\n",
              "       [15, 16, 17, 18, 19],\n",
              "       [20, 21, 22, 23, 24]])"
            ]
          },
          "metadata": {},
          "execution_count": 70
        }
      ]
    },
    {
      "cell_type": "code",
      "source": [
        "print(data.sum())\n",
        "print(data.min())\n",
        "print(data.max())"
      ],
      "metadata": {
        "colab": {
          "base_uri": "https://localhost:8080/"
        },
        "id": "vmh1xtGDQziW",
        "outputId": "357cf35a-4cec-4091-9a90-8754cddc6bc0"
      },
      "execution_count": 71,
      "outputs": [
        {
          "output_type": "stream",
          "name": "stdout",
          "text": [
            "300\n",
            "0\n",
            "24\n"
          ]
        }
      ]
    },
    {
      "cell_type": "code",
      "source": [
        "data.argmax()"
      ],
      "metadata": {
        "colab": {
          "base_uri": "https://localhost:8080/"
        },
        "id": "veff-0NtRHb1",
        "outputId": "2aee14bd-d01f-429d-a306-d7a6046d27e9"
      },
      "execution_count": 72,
      "outputs": [
        {
          "output_type": "execute_result",
          "data": {
            "text/plain": [
              "np.int64(24)"
            ]
          },
          "metadata": {},
          "execution_count": 72
        }
      ]
    },
    {
      "cell_type": "code",
      "source": [
        "data=np.random.randint(0,10,(3,3))"
      ],
      "metadata": {
        "id": "tY0E1WjVRTVV"
      },
      "execution_count": 74,
      "outputs": []
    },
    {
      "cell_type": "code",
      "source": [
        "data"
      ],
      "metadata": {
        "colab": {
          "base_uri": "https://localhost:8080/"
        },
        "id": "I8y7sGICRk_v",
        "outputId": "d24d3e4a-77a6-4d3b-d0d1-72edbb26c387"
      },
      "execution_count": 75,
      "outputs": [
        {
          "output_type": "execute_result",
          "data": {
            "text/plain": [
              "array([[4, 1, 6],\n",
              "       [7, 2, 1],\n",
              "       [1, 0, 3]])"
            ]
          },
          "metadata": {},
          "execution_count": 75
        }
      ]
    },
    {
      "cell_type": "code",
      "source": [
        "data.sum(axis=1)"
      ],
      "metadata": {
        "colab": {
          "base_uri": "https://localhost:8080/"
        },
        "id": "BOmJEPjrRt4c",
        "outputId": "1402257a-07f0-4a75-c903-bea1ce516477"
      },
      "execution_count": 76,
      "outputs": [
        {
          "output_type": "execute_result",
          "data": {
            "text/plain": [
              "array([11, 10,  4])"
            ]
          },
          "metadata": {},
          "execution_count": 76
        }
      ]
    },
    {
      "cell_type": "code",
      "source": [
        "data.sum(axis=0)"
      ],
      "metadata": {
        "colab": {
          "base_uri": "https://localhost:8080/"
        },
        "id": "15Ei9D8QR1bf",
        "outputId": "9c6635b3-35c0-4fba-b706-429a4f1d847e"
      },
      "execution_count": 77,
      "outputs": [
        {
          "output_type": "execute_result",
          "data": {
            "text/plain": [
              "array([12,  3, 10])"
            ]
          },
          "metadata": {},
          "execution_count": 77
        }
      ]
    },
    {
      "cell_type": "code",
      "source": [
        "data.min(axis=1)"
      ],
      "metadata": {
        "colab": {
          "base_uri": "https://localhost:8080/"
        },
        "id": "qDp7k8QxR-4j",
        "outputId": "59b4cd20-3fa1-4ce5-98f3-27ad5ea4d7e5"
      },
      "execution_count": 78,
      "outputs": [
        {
          "output_type": "execute_result",
          "data": {
            "text/plain": [
              "array([1, 1, 0])"
            ]
          },
          "metadata": {},
          "execution_count": 78
        }
      ]
    },
    {
      "cell_type": "code",
      "source": [],
      "metadata": {
        "id": "92RtsI3cSLAp"
      },
      "execution_count": null,
      "outputs": []
    }
  ]
}