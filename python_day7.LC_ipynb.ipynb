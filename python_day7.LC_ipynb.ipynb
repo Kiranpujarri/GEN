{
  "cells": [
    {
      "cell_type": "code",
      "execution_count": 92,
      "metadata": {
        "colab": {
          "base_uri": "https://localhost:8080/"
        },
        "id": "Dw0bChnVl_qo",
        "outputId": "0c20b3c6-bbc9-4563-fc16-855ebeb8035b"
      },
      "outputs": [
        {
          "output_type": "stream",
          "name": "stdout",
          "text": [
            "output\n"
          ]
        }
      ],
      "source": [
        "x=50                         #if it true ,output come .if false no output\n",
        "if (x>=30) & (x%2==0):       # 1=true  ,0=false\n",
        " print(\"output\")"
      ]
    },
    {
      "cell_type": "code",
      "execution_count": 93,
      "metadata": {
        "colab": {
          "base_uri": "https://localhost:8080/"
        },
        "id": "2rgQRYpdwfb8",
        "outputId": "3968e34f-116b-471d-86c9-df2376e34bce"
      },
      "outputs": [
        {
          "output_type": "stream",
          "name": "stdout",
          "text": [
            "output\n"
          ]
        }
      ],
      "source": [
        "x=50\n",
        "if True:\n",
        " print(\"output\")"
      ]
    },
    {
      "cell_type": "code",
      "execution_count": 94,
      "metadata": {
        "colab": {
          "base_uri": "https://localhost:8080/"
        },
        "id": "SU09nojbwr5p",
        "outputId": "9a713a93-6b33-44bd-c6d5-460ca8957caf"
      },
      "outputs": [
        {
          "output_type": "stream",
          "name": "stdout",
          "text": [
            "output\n"
          ]
        }
      ],
      "source": [
        "if 1:\n",
        "  print(\"output\")"
      ]
    },
    {
      "cell_type": "code",
      "execution_count": 95,
      "metadata": {
        "id": "zmDiZWGAwx7a"
      },
      "outputs": [],
      "source": [
        "if 0:                #no output bcas0=false\n",
        "  print(\"output\")\n"
      ]
    },
    {
      "cell_type": "code",
      "execution_count": 96,
      "metadata": {
        "colab": {
          "base_uri": "https://localhost:8080/"
        },
        "id": "yoceAiHZnJ5U",
        "outputId": "07c62bec-6c52-49cd-f1a6-e8b4b95b119c"
      },
      "outputs": [
        {
          "output_type": "stream",
          "name": "stdout",
          "text": [
            "output\n"
          ]
        }
      ],
      "source": [
        "x=10\n",
        "if 110:\n",
        "  print(\"output\")"
      ]
    },
    {
      "cell_type": "code",
      "execution_count": 97,
      "metadata": {
        "colab": {
          "base_uri": "https://localhost:8080/"
        },
        "id": "DUhjzkkRnJ1x",
        "outputId": "381d0bcb-6f29-4306-d677-0634bae900e0"
      },
      "outputs": [
        {
          "output_type": "stream",
          "name": "stdout",
          "text": [
            "output1\n"
          ]
        }
      ],
      "source": [
        "x=50                                #if first correct come output else go to second ...\n",
        "if x<=30:\n",
        "  print(\"output\")\n",
        "elif x>40 and x<55:\n",
        " print(\"output1\")\n",
        "else:\n",
        "  print(\"output2\")"
      ]
    },
    {
      "cell_type": "code",
      "execution_count": 98,
      "metadata": {
        "colab": {
          "base_uri": "https://localhost:8080/"
        },
        "id": "55WRGZdanJzF",
        "outputId": "e53ee991-a784-4f73-c27d-e3e298a8f695"
      },
      "outputs": [
        {
          "output_type": "stream",
          "name": "stdout",
          "text": [
            "1\n",
            "2\n",
            "3\n",
            "[4, 5, 6]\n"
          ]
        }
      ],
      "source": [
        "x=[1,2,3,[4,5,6]]\n",
        "for i in (x):\n",
        " print(i)"
      ]
    },
    {
      "cell_type": "code",
      "execution_count": 99,
      "metadata": {
        "colab": {
          "base_uri": "https://localhost:8080/"
        },
        "id": "5ZB7UyvRnJwU",
        "outputId": "f5aa1e71-36a6-4265-b0dd-33bfbb1af388"
      },
      "outputs": [
        {
          "output_type": "stream",
          "name": "stdout",
          "text": [
            "4\n",
            "5\n",
            "6\n"
          ]
        }
      ],
      "source": [
        "x=[1,2,3,[4,5,6]]\n",
        "for i in (x):\n",
        "  if type(i)==list:\n",
        "    for j in i:\n",
        "      print(j)\n"
      ]
    },
    {
      "cell_type": "code",
      "execution_count": 100,
      "metadata": {
        "colab": {
          "base_uri": "https://localhost:8080/"
        },
        "id": "oA8uljEVnJq1",
        "outputId": "54713a9f-fdb3-43b3-d7d0-c33431266d5f"
      },
      "outputs": [
        {
          "output_type": "stream",
          "name": "stdout",
          "text": [
            "1,2,3,4,5,6,7,8,9,10,11,12,13,14,"
          ]
        }
      ],
      "source": [
        "for i in range(1,15):          #range = in series\n",
        " print (i, end=\",\")"
      ]
    },
    {
      "cell_type": "code",
      "execution_count": 101,
      "metadata": {
        "id": "qMbkLE5YnJoH",
        "colab": {
          "base_uri": "https://localhost:8080/"
        },
        "outputId": "cbe50845-fb3a-467a-e49f-a7790ad47dba"
      },
      "outputs": [
        {
          "output_type": "stream",
          "name": "stdout",
          "text": [
            "0 ,\n",
            "4 ,\n",
            "8 ,\n",
            "12 ,\n",
            "16 ,\n",
            "20 ,\n"
          ]
        }
      ],
      "source": [
        "for k in range(0,21,4):        #(0,21,4)=how mc v give last that much gap\n",
        " print(k,\",\")"
      ]
    },
    {
      "cell_type": "code",
      "source": [
        "for k in range(0,21,4):\n",
        "  print(k*\"*\")"
      ],
      "metadata": {
        "colab": {
          "base_uri": "https://localhost:8080/"
        },
        "id": "Y5kM_3q7gD89",
        "outputId": "450cad08-8afb-4982-9d16-1d8b8709fd3d"
      },
      "execution_count": 102,
      "outputs": [
        {
          "output_type": "stream",
          "name": "stdout",
          "text": [
            "\n",
            "****\n",
            "********\n",
            "************\n",
            "****************\n",
            "********************\n"
          ]
        }
      ]
    },
    {
      "cell_type": "code",
      "execution_count": 103,
      "metadata": {
        "id": "fQECTSCGnJlY",
        "colab": {
          "base_uri": "https://localhost:8080/"
        },
        "outputId": "46b11c7e-08aa-4269-d490-1b571cff7761"
      },
      "outputs": [
        {
          "output_type": "stream",
          "name": "stdout",
          "text": [
            "10 ,\n",
            "8 ,\n",
            "6 ,\n",
            "4 ,\n",
            "2 ,\n"
          ]
        }
      ],
      "source": [
        "for k in range(10,0,-2):           # if in -2 it in reverse\n",
        " print(k,\",\")"
      ]
    },
    {
      "cell_type": "code",
      "execution_count": 104,
      "metadata": {
        "id": "9edKaVnBnJim",
        "colab": {
          "base_uri": "https://localhost:8080/"
        },
        "outputId": "3389da1e-f6dd-4a73-8683-a24011c4914a"
      },
      "outputs": [
        {
          "output_type": "stream",
          "name": "stdout",
          "text": [
            "*\n",
            "**\n",
            "***\n",
            "****\n",
            "*****\n",
            "******\n",
            "*******\n"
          ]
        }
      ],
      "source": [
        "for k in range(1,8):           #mention wt need beside of print\n",
        "  print(k*\"*\")"
      ]
    },
    {
      "cell_type": "code",
      "execution_count": 105,
      "metadata": {
        "id": "8mpcf52fnJf1",
        "colab": {
          "base_uri": "https://localhost:8080/"
        },
        "outputId": "fc87858d-091f-4dfa-e2b8-cd11bf301bd4"
      },
      "outputs": [
        {
          "output_type": "stream",
          "name": "stdout",
          "text": [
            "******\n",
            "*****\n",
            "****\n",
            "***\n",
            "**\n",
            "*\n"
          ]
        }
      ],
      "source": [
        "for k in range(6,0,-1):\n",
        "  print(k*\"*\")"
      ]
    },
    {
      "cell_type": "code",
      "execution_count": 106,
      "metadata": {
        "id": "vZW3VOXKnJdC",
        "colab": {
          "base_uri": "https://localhost:8080/"
        },
        "outputId": "49985d4d-06f6-4952-bc91-102745087d05"
      },
      "outputs": [
        {
          "output_type": "stream",
          "name": "stdout",
          "text": [
            "5\n",
            "4\n",
            "3\n",
            "2\n",
            "1\n"
          ]
        }
      ],
      "source": [
        "for k in range(1,6):      #if need reverse print 6-k imp\n",
        "  print(6-k)"
      ]
    },
    {
      "cell_type": "code",
      "execution_count": 107,
      "metadata": {
        "id": "Ki46LG2bnJaP",
        "colab": {
          "base_uri": "https://localhost:8080/"
        },
        "outputId": "329b809b-5587-425f-dd4f-d391e09bb2c1"
      },
      "outputs": [
        {
          "output_type": "stream",
          "name": "stdout",
          "text": [
            "DATA\n",
            "SCIENCE\n",
            "DATA\n",
            "SCIENCE\n",
            "DATA\n",
            "SCIENCE\n",
            "DATA\n",
            "SCIENCE\n"
          ]
        }
      ],
      "source": [
        "for k in range(0,4):              #from 0to 4 men 4times per line\n",
        " print(\"data\". upper())\n",
        " print(\"science\". upper())"
      ]
    },
    {
      "cell_type": "code",
      "source": [
        "for k in range(0,5):     # true also but range is 5 so 5 out put ,bcus other output is only 1\n",
        " if True :\n",
        "    print(\"data\")\n"
      ],
      "metadata": {
        "colab": {
          "base_uri": "https://localhost:8080/"
        },
        "id": "kq8M8KQaafd1",
        "outputId": "6f15e10f-22d6-4696-ed00-14004ebf36b5"
      },
      "execution_count": 108,
      "outputs": [
        {
          "output_type": "stream",
          "name": "stdout",
          "text": [
            "data\n",
            "data\n",
            "data\n",
            "data\n",
            "data\n"
          ]
        }
      ]
    },
    {
      "cell_type": "code",
      "source": [
        "for k in range(0,10,2):\n",
        "  print(k*\"*\")\n",
        "\n"
      ],
      "metadata": {
        "colab": {
          "base_uri": "https://localhost:8080/"
        },
        "id": "ST9i3EcLd_b1",
        "outputId": "f0e55854-e77e-4062-d97b-7939b69ccab1"
      },
      "execution_count": 109,
      "outputs": [
        {
          "output_type": "stream",
          "name": "stdout",
          "text": [
            "\n",
            "**\n",
            "****\n",
            "******\n",
            "********\n"
          ]
        }
      ]
    },
    {
      "cell_type": "code",
      "source": [
        "for k in range(0,10,4):        # write no like 4i wrote so ir starts from there & add again same as 4\n",
        "  print(k*\"*\")"
      ],
      "metadata": {
        "id": "CyVx6XNAd_ZT",
        "colab": {
          "base_uri": "https://localhost:8080/"
        },
        "outputId": "c09063e8-aa44-422e-c68f-c1a8e11bfd11"
      },
      "execution_count": 110,
      "outputs": [
        {
          "output_type": "stream",
          "name": "stdout",
          "text": [
            "\n",
            "****\n",
            "********\n"
          ]
        }
      ]
    },
    {
      "cell_type": "code",
      "source": [
        "for i in range(1,6):\n",
        " print(i*\"*\")\n"
      ],
      "metadata": {
        "id": "u9jJpiIod_W7",
        "colab": {
          "base_uri": "https://localhost:8080/"
        },
        "outputId": "9fb65b3e-821d-454d-a8ca-0320812d200d"
      },
      "execution_count": 111,
      "outputs": [
        {
          "output_type": "stream",
          "name": "stdout",
          "text": [
            "*\n",
            "**\n",
            "***\n",
            "****\n",
            "*****\n"
          ]
        }
      ]
    },
    {
      "cell_type": "code",
      "source": [
        "for i in range(2,6):                  #first go 2to 6 & 7to 0 in -1 goes reverse\n",
        " print(i*\"*\")\n",
        "for k in range(7,0,-1):\n",
        " print(k*\"*\")"
      ],
      "metadata": {
        "id": "19A6C8Gud_UY",
        "colab": {
          "base_uri": "https://localhost:8080/"
        },
        "outputId": "f56fd367-9a09-4494-b651-33bd6ff17841"
      },
      "execution_count": 112,
      "outputs": [
        {
          "output_type": "stream",
          "name": "stdout",
          "text": [
            "**\n",
            "***\n",
            "****\n",
            "*****\n",
            "*******\n",
            "******\n",
            "*****\n",
            "****\n",
            "***\n",
            "**\n",
            "*\n"
          ]
        }
      ]
    },
    {
      "cell_type": "code",
      "source": [
        "for i in range(2,6):                  #first go 2to 6 & 7to 0 in -1 goes reverse\n",
        " print(i*\"*\")\n",
        " if k==2:\n",
        "  for k in range(7,0,-1):\n",
        "   print(k*\"*\")\n",
        "   if i==7:\n",
        "    i"
      ],
      "metadata": {
        "id": "nay5Tr0Yd_Rp",
        "colab": {
          "base_uri": "https://localhost:8080/"
        },
        "outputId": "35fc09d7-7136-4b00-c687-d6dc25eb5dc5"
      },
      "execution_count": 114,
      "outputs": [
        {
          "output_type": "stream",
          "name": "stdout",
          "text": [
            "**\n",
            "***\n",
            "****\n",
            "*****\n"
          ]
        }
      ]
    },
    {
      "cell_type": "code",
      "source": [
        "for i in range(1,6):           # ex\n",
        "  print(\" \"*(6-i)+i*\"*\")"
      ],
      "metadata": {
        "colab": {
          "base_uri": "https://localhost:8080/"
        },
        "id": "ikLftgG4dv6P",
        "outputId": "1d65f632-4347-4fd8-aa83-f8f1192c52ce"
      },
      "execution_count": 115,
      "outputs": [
        {
          "output_type": "stream",
          "name": "stdout",
          "text": [
            "     *\n",
            "    **\n",
            "   ***\n",
            "  ****\n",
            " *****\n"
          ]
        }
      ]
    },
    {
      "cell_type": "code",
      "source": [
        "for i in range(1,6):           # ex add anything before print i like k*(6-i)\n",
        "  print(\"k\"*(6-i)+i*\"*\")"
      ],
      "metadata": {
        "colab": {
          "base_uri": "https://localhost:8080/"
        },
        "id": "_S62vGvFe8rx",
        "outputId": "19c051e4-bc64-445d-d4c5-dc194e7301f5"
      },
      "execution_count": 116,
      "outputs": [
        {
          "output_type": "stream",
          "name": "stdout",
          "text": [
            "kkkkk*\n",
            "kkkk**\n",
            "kkk***\n",
            "kk****\n",
            "k*****\n"
          ]
        }
      ]
    },
    {
      "cell_type": "code",
      "source": [
        "l=[1,2,3,4,5,6]"
      ],
      "metadata": {
        "id": "pG2MxTrliqBJ"
      },
      "execution_count": 117,
      "outputs": []
    },
    {
      "cell_type": "code",
      "source": [
        "for i in range(0,6):\n",
        "  print(\" \"*(6-i)+str(2))"
      ],
      "metadata": {
        "colab": {
          "base_uri": "https://localhost:8080/"
        },
        "id": "Wzqi0eS7e8oO",
        "outputId": "ed0c02f0-a399-46ef-d48a-00fb543127e1"
      },
      "execution_count": 118,
      "outputs": [
        {
          "output_type": "stream",
          "name": "stdout",
          "text": [
            "      2\n",
            "     2\n",
            "    2\n",
            "   2\n",
            "  2\n",
            " 2\n"
          ]
        }
      ]
    },
    {
      "cell_type": "code",
      "source": [
        "print(\" \"*(6-l)+l*)"
      ],
      "metadata": {
        "colab": {
          "base_uri": "https://localhost:8080/",
          "height": 109
        },
        "id": "yzz3n8Dxe8lL",
        "outputId": "4e4bb83f-a138-4bbe-af2a-644ee87b8a69"
      },
      "execution_count": 119,
      "outputs": [
        {
          "output_type": "error",
          "ename": "SyntaxError",
          "evalue": "invalid syntax (ipython-input-119-2084245477.py, line 1)",
          "traceback": [
            "\u001b[0;36m  File \u001b[0;32m\"/tmp/ipython-input-119-2084245477.py\"\u001b[0;36m, line \u001b[0;32m1\u001b[0m\n\u001b[0;31m    print(\" \"*(6-l)+l*)\u001b[0m\n\u001b[0m                      ^\u001b[0m\n\u001b[0;31mSyntaxError\u001b[0m\u001b[0;31m:\u001b[0m invalid syntax\n"
          ]
        }
      ]
    },
    {
      "cell_type": "code",
      "source": [
        "x=[1,2,3,4,5,6]\n",
        "for i in range(0,6):\n",
        "  print(x[0:i])"
      ],
      "metadata": {
        "colab": {
          "base_uri": "https://localhost:8080/"
        },
        "id": "EKsPGA-_e8iB",
        "outputId": "bf01a29e-6f27-4454-ed3f-6817e5f13d99"
      },
      "execution_count": 120,
      "outputs": [
        {
          "output_type": "stream",
          "name": "stdout",
          "text": [
            "[]\n",
            "[1]\n",
            "[1, 2]\n",
            "[1, 2, 3]\n",
            "[1, 2, 3, 4]\n",
            "[1, 2, 3, 4, 5]\n"
          ]
        }
      ]
    },
    {
      "cell_type": "code",
      "source": [
        "x=\"data\"\n",
        "for i in range(0,5):\n",
        "  print(x[0:i])"
      ],
      "metadata": {
        "colab": {
          "base_uri": "https://localhost:8080/"
        },
        "id": "LfOh77Qbe8fK",
        "outputId": "490a532b-e5ba-4767-b21c-915e53b45c5a"
      },
      "execution_count": 121,
      "outputs": [
        {
          "output_type": "stream",
          "name": "stdout",
          "text": [
            "\n",
            "d\n",
            "da\n",
            "dat\n",
            "data\n"
          ]
        }
      ]
    },
    {
      "cell_type": "code",
      "source": [
        "x=\"data jifjewof iorjghiuhr\"        #in range\n",
        "for i in range(1,len(x)):\n",
        "  print(x[0:i])"
      ],
      "metadata": {
        "id": "XiBxSJ0oe8cN",
        "colab": {
          "base_uri": "https://localhost:8080/"
        },
        "outputId": "96af2ad8-2bb6-421a-840b-362a568046e9"
      },
      "execution_count": 122,
      "outputs": [
        {
          "output_type": "stream",
          "name": "stdout",
          "text": [
            "d\n",
            "da\n",
            "dat\n",
            "data\n",
            "data \n",
            "data j\n",
            "data ji\n",
            "data jif\n",
            "data jifj\n",
            "data jifje\n",
            "data jifjew\n",
            "data jifjewo\n",
            "data jifjewof\n",
            "data jifjewof \n",
            "data jifjewof i\n",
            "data jifjewof io\n",
            "data jifjewof ior\n",
            "data jifjewof iorj\n",
            "data jifjewof iorjg\n",
            "data jifjewof iorjgh\n",
            "data jifjewof iorjghi\n",
            "data jifjewof iorjghiu\n",
            "data jifjewof iorjghiuh\n"
          ]
        }
      ]
    },
    {
      "cell_type": "code",
      "source": [
        "x=\"kfewjifwf\"\n",
        "x"
      ],
      "metadata": {
        "colab": {
          "base_uri": "https://localhost:8080/",
          "height": 35
        },
        "id": "iHAIYKq_az8B",
        "outputId": "305a4034-859e-4eef-a2b2-bd678cc65c90"
      },
      "execution_count": 123,
      "outputs": [
        {
          "output_type": "execute_result",
          "data": {
            "text/plain": [
              "'kfewjifwf'"
            ],
            "application/vnd.google.colaboratory.intrinsic+json": {
              "type": "string"
            }
          },
          "metadata": {},
          "execution_count": 123
        }
      ]
    },
    {
      "cell_type": "code",
      "source": [
        "x"
      ],
      "metadata": {
        "colab": {
          "base_uri": "https://localhost:8080/",
          "height": 35
        },
        "id": "bMP0LdKGd4A4",
        "outputId": "43e8cebd-01f6-4dd5-89e7-a6843cadefad"
      },
      "execution_count": 124,
      "outputs": [
        {
          "output_type": "execute_result",
          "data": {
            "text/plain": [
              "'kfewjifwf'"
            ],
            "application/vnd.google.colaboratory.intrinsic+json": {
              "type": "string"
            }
          },
          "metadata": {},
          "execution_count": 124
        }
      ]
    },
    {
      "cell_type": "code",
      "source": [
        "for i in x:\n",
        " print(i)"
      ],
      "metadata": {
        "colab": {
          "base_uri": "https://localhost:8080/"
        },
        "id": "Gq7SRyGbaz4o",
        "outputId": "123dbecb-0fe6-4ece-a2c6-23d4d6af9843"
      },
      "execution_count": 125,
      "outputs": [
        {
          "output_type": "stream",
          "name": "stdout",
          "text": [
            "k\n",
            "f\n",
            "e\n",
            "w\n",
            "j\n",
            "i\n",
            "f\n",
            "w\n",
            "f\n"
          ]
        }
      ]
    },
    {
      "cell_type": "code",
      "source": [
        "x=\"dat scirnce hjj %$&nnd*\""
      ],
      "metadata": {
        "id": "4TVM8zwxaz1w"
      },
      "execution_count": 126,
      "outputs": []
    },
    {
      "cell_type": "code",
      "source": [
        "for i in x:\n",
        "  if not(i.isalpha()):  # it gives only special character\n",
        "    print(i)"
      ],
      "metadata": {
        "id": "j0mGjCE6azy5",
        "colab": {
          "base_uri": "https://localhost:8080/"
        },
        "outputId": "86ba5208-9031-4424-c907-674aac1c7a13"
      },
      "execution_count": 127,
      "outputs": [
        {
          "output_type": "stream",
          "name": "stdout",
          "text": [
            " \n",
            " \n",
            " \n",
            "%\n",
            "$\n",
            "&\n",
            "*\n"
          ]
        }
      ]
    },
    {
      "cell_type": "code",
      "source": [
        "for i in x:\n",
        "  if i.isalpha():  # it removes special character\n",
        "    print(i)"
      ],
      "metadata": {
        "id": "OGTiPjZVazwG",
        "colab": {
          "base_uri": "https://localhost:8080/"
        },
        "outputId": "28113e2f-fc72-49fb-b7dc-dc575dcd0613"
      },
      "execution_count": 128,
      "outputs": [
        {
          "output_type": "stream",
          "name": "stdout",
          "text": [
            "d\n",
            "a\n",
            "t\n",
            "s\n",
            "c\n",
            "i\n",
            "r\n",
            "n\n",
            "c\n",
            "e\n",
            "h\n",
            "j\n",
            "j\n",
            "n\n",
            "n\n",
            "d\n"
          ]
        }
      ]
    },
    {
      "cell_type": "code",
      "source": [
        "for i in x:\n",
        "   if i.isalpha():  # also gives\n",
        "    print(i,end=\",\")"
      ],
      "metadata": {
        "id": "pavtXU3Oazp1",
        "colab": {
          "base_uri": "https://localhost:8080/"
        },
        "outputId": "06241224-d247-4769-8d5d-cee2cd3ef99b"
      },
      "execution_count": 148,
      "outputs": [
        {
          "output_type": "stream",
          "name": "stdout",
          "text": [
            "d,a,t,s,c,i,r,n,c,e,h,j,j,n,n,d,"
          ]
        }
      ]
    },
    {
      "cell_type": "code",
      "source": [
        "review='''To recap, summary is a noun that en5capsulates the core45564 %*^#% ideas of a more extensive text concisely.'''\n"
      ],
      "metadata": {
        "id": "2EZlFm5Dazmx"
      },
      "execution_count": 130,
      "outputs": []
    },
    {
      "cell_type": "code",
      "source": [
        "print(review)"
      ],
      "metadata": {
        "id": "7Y8hp4bBazj5",
        "colab": {
          "base_uri": "https://localhost:8080/"
        },
        "outputId": "c32f3a4b-1422-4c0d-f232-430c24f79072"
      },
      "execution_count": 131,
      "outputs": [
        {
          "output_type": "stream",
          "name": "stdout",
          "text": [
            "To recap, summary is a noun that en5capsulates the core45564 %*^#% ideas of a more extensive text concisely.\n"
          ]
        }
      ]
    },
    {
      "cell_type": "code",
      "source": [
        "len(review),len(review.split())"
      ],
      "metadata": {
        "colab": {
          "base_uri": "https://localhost:8080/"
        },
        "id": "FaETDowTIqGO",
        "outputId": "24dc504f-cb02-4aa8-f062-30e903eba383"
      },
      "execution_count": 132,
      "outputs": [
        {
          "output_type": "execute_result",
          "data": {
            "text/plain": [
              "(108, 18)"
            ]
          },
          "metadata": {},
          "execution_count": 132
        }
      ]
    },
    {
      "cell_type": "code",
      "source": [
        "review.swapcase()   #in make small to big letter &big to small"
      ],
      "metadata": {
        "colab": {
          "base_uri": "https://localhost:8080/",
          "height": 35
        },
        "id": "9D4xeeZmJHqY",
        "outputId": "6d5a1670-2d98-41a1-e263-8c174b7bfc2f"
      },
      "execution_count": 133,
      "outputs": [
        {
          "output_type": "execute_result",
          "data": {
            "text/plain": [
              "'tO RECAP, SUMMARY IS A NOUN THAT EN5CAPSULATES THE CORE45564 %*^#% IDEAS OF A MORE EXTENSIVE TEXT CONCISELY.'"
            ],
            "application/vnd.google.colaboratory.intrinsic+json": {
              "type": "string"
            }
          },
          "metadata": {},
          "execution_count": 133
        }
      ]
    },
    {
      "cell_type": "code",
      "source": [
        "space_counter=0\n",
        "for i in review:\n",
        " if i.isspace():\n",
        "  space_counter=space_counter+1\n",
        "  print(space_counter)"
      ],
      "metadata": {
        "colab": {
          "base_uri": "https://localhost:8080/"
        },
        "id": "jmWq81BgJY2u",
        "outputId": "1e727680-acdb-47da-b99f-0263cb97fdb3"
      },
      "execution_count": 134,
      "outputs": [
        {
          "output_type": "stream",
          "name": "stdout",
          "text": [
            "1\n",
            "2\n",
            "3\n",
            "4\n",
            "5\n",
            "6\n",
            "7\n",
            "8\n",
            "9\n",
            "10\n",
            "11\n",
            "12\n",
            "13\n",
            "14\n",
            "15\n",
            "16\n",
            "17\n"
          ]
        }
      ]
    },
    {
      "cell_type": "code",
      "source": [
        "space_counter = 0\n",
        "special_char_counter = 0\n",
        "numerical_char_count = 0\n",
        "\n",
        "for i in review:\n",
        "    if i.isspace():\n",
        "        space_counter = space_counter + 1\n",
        "    elif i.isnumeric():\n",
        "        numerical_char_count = numerical_char_count + 1\n",
        "    elif not i.isalpha():\n",
        "        special_char_counter = special_char_counter + 1\n",
        "\n",
        "print(space_counter)\n",
        "print(special_char_counter)\n",
        "print(numerical_char_count)"
      ],
      "metadata": {
        "colab": {
          "base_uri": "https://localhost:8080/"
        },
        "id": "DaJAy781Kmj6",
        "outputId": "a2ed4ec8-d363-471e-fb85-52b517a108dc"
      },
      "execution_count": 135,
      "outputs": [
        {
          "output_type": "stream",
          "name": "stdout",
          "text": [
            "17\n",
            "7\n",
            "6\n"
          ]
        }
      ]
    },
    {
      "cell_type": "code",
      "source": [
        "learn='''How Many Paragraphs Is a 100-Word$%&*# Essay? A 100-word essay should include 1 to 2 paragraphs. In academic writing, a paragraph should contain at least 50 words and three sentences.'''"
      ],
      "metadata": {
        "id": "zBGhrrFzO3e-"
      },
      "execution_count": 137,
      "outputs": []
    },
    {
      "cell_type": "code",
      "source": [
        "# need no of character,word,space,special character,capital,numeric this all find"
      ],
      "metadata": {
        "id": "33Ku92z4Q5rF"
      },
      "execution_count": 138,
      "outputs": []
    },
    {
      "cell_type": "code",
      "source": [
        "len(learn),len(learn.split())"
      ],
      "metadata": {
        "colab": {
          "base_uri": "https://localhost:8080/"
        },
        "id": "CFRfjROKRgPF",
        "outputId": "cfcdd086-31ff-4104-d32f-f0b0127e0206"
      },
      "execution_count": 142,
      "outputs": [
        {
          "output_type": "execute_result",
          "data": {
            "text/plain": [
              "(183, 30)"
            ]
          },
          "metadata": {},
          "execution_count": 142
        }
      ]
    },
    {
      "cell_type": "code",
      "source": [
        "space_counter=0\n",
        "for i in learn:\n",
        "  if i.isspace():\n",
        "    space_counter=space_counter+1\n",
        "    print(space_counter,end=\"*\")"
      ],
      "metadata": {
        "colab": {
          "base_uri": "https://localhost:8080/"
        },
        "id": "X4I6gSA2RiUY",
        "outputId": "a034e174-1036-4c8c-c196-e478b37f8345"
      },
      "execution_count": 146,
      "outputs": [
        {
          "output_type": "stream",
          "name": "stdout",
          "text": [
            "1*2*3*4*5*6*7*8*9*10*11*12*13*14*15*16*17*18*19*20*21*22*23*24*25*26*27*28*29*"
          ]
        }
      ]
    },
    {
      "cell_type": "code",
      "source": [
        "space_counter=0\n",
        "for i in learn:\n",
        "  if i.isspace():\n",
        "    space_counter=space_counter+1\n",
        "    print(space_counter,end=\",\")\n"
      ],
      "metadata": {
        "colab": {
          "base_uri": "https://localhost:8080/"
        },
        "id": "LReUz9qmRiQz",
        "outputId": "0d494f19-0259-421c-e334-4734024d7032"
      },
      "execution_count": 144,
      "outputs": [
        {
          "output_type": "stream",
          "name": "stdout",
          "text": [
            "1,2,3,4,5,6,7,8,9,10,11,12,13,14,15,16,17,18,19,20,21,22,23,24,25,26,27,28,29,"
          ]
        }
      ]
    },
    {
      "cell_type": "code",
      "source": [
        "# spacecounter=0\n",
        "#for i in learn:\n",
        "#if i.isspace():\n",
        "#spacecounter=spacecounter+1\n",
        "#print(spcecounter,end=\",\")"
      ],
      "metadata": {
        "id": "4H5W-GZ9RiOY"
      },
      "execution_count": 147,
      "outputs": []
    },
    {
      "cell_type": "code",
      "source": [
        "space_counter=0\n",
        "special_char_counter=0\n",
        "numerical_char_count=0\n",
        "\n",
        "for i in learn:\n",
        "  if i.isspace():\n",
        "    space_counter=space_counter+1\n",
        "  elif i.isnumeric():                                       # this all u can put once so all get\n",
        "    numerical_char_count=numerical_char_count+1\n",
        "  elif not i.isalpha():\n",
        "    special_char_counter=special_char_counter+1\n",
        "\n",
        "print(space_counter)\n",
        "print(special_char_counter)\n",
        "print(numerical_char_count)\n",
        "\n"
      ],
      "metadata": {
        "colab": {
          "base_uri": "https://localhost:8080/"
        },
        "id": "5TNNTSKSRiMB",
        "outputId": "1be25e63-9d01-450e-d652-ed0482fc246c"
      },
      "execution_count": 154,
      "outputs": [
        {
          "output_type": "stream",
          "name": "stdout",
          "text": [
            "29\n",
            "11\n",
            "10\n"
          ]
        }
      ]
    },
    {
      "cell_type": "code",
      "source": [
        "\"data$\".replace(\"$\",\"%\")        #use for replace"
      ],
      "metadata": {
        "colab": {
          "base_uri": "https://localhost:8080/",
          "height": 35
        },
        "id": "UfmymOCoRiJl",
        "outputId": "767cde42-e87e-4a59-9d2e-eda29685738f"
      },
      "execution_count": 155,
      "outputs": [
        {
          "output_type": "execute_result",
          "data": {
            "text/plain": [
              "'data%'"
            ],
            "application/vnd.google.colaboratory.intrinsic+json": {
              "type": "string"
            }
          },
          "metadata": {},
          "execution_count": 155
        }
      ]
    },
    {
      "cell_type": "code",
      "source": [
        "x=\"data science machine learning\"\n",
        "x.split()"
      ],
      "metadata": {
        "colab": {
          "base_uri": "https://localhost:8080/"
        },
        "id": "yDSVivGgRiG2",
        "outputId": "02ed9579-6cda-4c47-a6bf-249ec600b5ae"
      },
      "execution_count": 165,
      "outputs": [
        {
          "output_type": "execute_result",
          "data": {
            "text/plain": [
              "['data', 'science', 'machine', 'learning']"
            ]
          },
          "metadata": {},
          "execution_count": 165
        }
      ]
    },
    {
      "cell_type": "code",
      "source": [
        "words=x.split()"
      ],
      "metadata": {
        "id": "RZacTbJHRiEF"
      },
      "execution_count": 163,
      "outputs": []
    },
    {
      "cell_type": "code",
      "source": [
        "words"
      ],
      "metadata": {
        "colab": {
          "base_uri": "https://localhost:8080/"
        },
        "id": "FGF6-oAWfyyb",
        "outputId": "16eebf11-96b5-4311-8102-e26b6d37c15c"
      },
      "execution_count": 164,
      "outputs": [
        {
          "output_type": "execute_result",
          "data": {
            "text/plain": [
              "['data', 'science', 'machine', 'learning']"
            ]
          },
          "metadata": {},
          "execution_count": 164
        }
      ]
    },
    {
      "cell_type": "code",
      "source": [
        "words.reverse()"
      ],
      "metadata": {
        "id": "XyvsPLlwf7Xn"
      },
      "execution_count": 171,
      "outputs": []
    },
    {
      "cell_type": "code",
      "source": [
        "words"
      ],
      "metadata": {
        "colab": {
          "base_uri": "https://localhost:8080/"
        },
        "id": "mFTbMel6gq36",
        "outputId": "700cfb64-7915-4f4f-80eb-20dbc7c9fc74"
      },
      "execution_count": 172,
      "outputs": [
        {
          "output_type": "execute_result",
          "data": {
            "text/plain": [
              "['learning', 'machine', 'science', 'data']"
            ]
          },
          "metadata": {},
          "execution_count": 172
        }
      ]
    },
    {
      "cell_type": "code",
      "source": [
        "string=\"\"\n",
        "for i in words:\n",
        "  string=string+i+\" \" # this also use as range by print in last\n",
        "  print(string)"
      ],
      "metadata": {
        "colab": {
          "base_uri": "https://localhost:8080/"
        },
        "id": "BSN_WK9Fg4cT",
        "outputId": "0f4c6247-3c1f-48e3-e743-99a5051d930a"
      },
      "execution_count": 174,
      "outputs": [
        {
          "output_type": "stream",
          "name": "stdout",
          "text": [
            "learning \n",
            "learning machine \n",
            "learning machine science \n",
            "learning machine science data \n"
          ]
        }
      ]
    },
    {
      "cell_type": "code",
      "source": [
        "string=\"\"\n",
        "for i in words:\n",
        "  string=string+\" \"+i"
      ],
      "metadata": {
        "id": "-ZIMEvpmikRT"
      },
      "execution_count": 176,
      "outputs": []
    },
    {
      "cell_type": "code",
      "source": [
        "string"
      ],
      "metadata": {
        "colab": {
          "base_uri": "https://localhost:8080/",
          "height": 35
        },
        "id": "KdOC6CiNikN6",
        "outputId": "35234da3-63b5-4445-d90c-d4deb7ea7e0e"
      },
      "execution_count": 177,
      "outputs": [
        {
          "output_type": "execute_result",
          "data": {
            "text/plain": [
              "' learning machine science data'"
            ],
            "application/vnd.google.colaboratory.intrinsic+json": {
              "type": "string"
            }
          },
          "metadata": {},
          "execution_count": 177
        }
      ]
    },
    {
      "cell_type": "code",
      "source": [],
      "metadata": {
        "id": "sZk96f56h7tl"
      },
      "execution_count": null,
      "outputs": []
    },
    {
      "cell_type": "code",
      "source": [],
      "metadata": {
        "id": "Ad-XaF-bh7qO"
      },
      "execution_count": null,
      "outputs": []
    },
    {
      "cell_type": "code",
      "source": [],
      "metadata": {
        "id": "xZGkNKjlh7nw"
      },
      "execution_count": null,
      "outputs": []
    },
    {
      "cell_type": "code",
      "source": [],
      "metadata": {
        "id": "yckY8UWCh7lP"
      },
      "execution_count": null,
      "outputs": []
    },
    {
      "cell_type": "code",
      "source": [],
      "metadata": {
        "id": "sSEG_zMDh7im"
      },
      "execution_count": null,
      "outputs": []
    }
  ],
  "metadata": {
    "colab": {
      "provenance": []
    },
    "kernelspec": {
      "display_name": "Python 3",
      "name": "python3"
    },
    "language_info": {
      "name": "python"
    }
  },
  "nbformat": 4,
  "nbformat_minor": 0
}